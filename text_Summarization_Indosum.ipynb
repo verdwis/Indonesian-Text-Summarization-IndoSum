{
  "nbformat": 4,
  "nbformat_minor": 0,
  "metadata": {
    "colab": {
      "provenance": []
    },
    "kernelspec": {
      "name": "python3",
      "display_name": "Python 3"
    },
    "language_info": {
      "name": "python"
    },
    "widgets": {
      "application/vnd.jupyter.widget-state+json": {
        "8c82ad25c4634277a4499baa8d79592f": {
          "model_module": "@jupyter-widgets/controls",
          "model_name": "HBoxModel",
          "model_module_version": "1.5.0",
          "state": {
            "_dom_classes": [],
            "_model_module": "@jupyter-widgets/controls",
            "_model_module_version": "1.5.0",
            "_model_name": "HBoxModel",
            "_view_count": null,
            "_view_module": "@jupyter-widgets/controls",
            "_view_module_version": "1.5.0",
            "_view_name": "HBoxView",
            "box_style": "",
            "children": [
              "IPY_MODEL_5a366c854d6941b1a7b857a55900f2f0",
              "IPY_MODEL_d6900dd01ea24f26ad01c03216706986",
              "IPY_MODEL_9763cb419bc84af79f67cbdfdcd7851f"
            ],
            "layout": "IPY_MODEL_1bed776f2f6649a89d3dd5f31d1dd24b"
          }
        },
        "5a366c854d6941b1a7b857a55900f2f0": {
          "model_module": "@jupyter-widgets/controls",
          "model_name": "HTMLModel",
          "model_module_version": "1.5.0",
          "state": {
            "_dom_classes": [],
            "_model_module": "@jupyter-widgets/controls",
            "_model_module_version": "1.5.0",
            "_model_name": "HTMLModel",
            "_view_count": null,
            "_view_module": "@jupyter-widgets/controls",
            "_view_module_version": "1.5.0",
            "_view_name": "HTMLView",
            "description": "",
            "description_tooltip": null,
            "layout": "IPY_MODEL_b1ed5f90ec0a4fd6b91dffd3bee3b268",
            "placeholder": "​",
            "style": "IPY_MODEL_107a7fd19eb749ff901e72966a0e162f",
            "value": "Downloading builder script: 100%"
          }
        },
        "d6900dd01ea24f26ad01c03216706986": {
          "model_module": "@jupyter-widgets/controls",
          "model_name": "FloatProgressModel",
          "model_module_version": "1.5.0",
          "state": {
            "_dom_classes": [],
            "_model_module": "@jupyter-widgets/controls",
            "_model_module_version": "1.5.0",
            "_model_name": "FloatProgressModel",
            "_view_count": null,
            "_view_module": "@jupyter-widgets/controls",
            "_view_module_version": "1.5.0",
            "_view_name": "ProgressView",
            "bar_style": "success",
            "description": "",
            "description_tooltip": null,
            "layout": "IPY_MODEL_8c590444cfe54a03852d057e24afb934",
            "max": 6270,
            "min": 0,
            "orientation": "horizontal",
            "style": "IPY_MODEL_5f6ce474f8bb4f5b9a6df90bd0f45944",
            "value": 6270
          }
        },
        "9763cb419bc84af79f67cbdfdcd7851f": {
          "model_module": "@jupyter-widgets/controls",
          "model_name": "HTMLModel",
          "model_module_version": "1.5.0",
          "state": {
            "_dom_classes": [],
            "_model_module": "@jupyter-widgets/controls",
            "_model_module_version": "1.5.0",
            "_model_name": "HTMLModel",
            "_view_count": null,
            "_view_module": "@jupyter-widgets/controls",
            "_view_module_version": "1.5.0",
            "_view_name": "HTMLView",
            "description": "",
            "description_tooltip": null,
            "layout": "IPY_MODEL_0bc4e3ed5e4b4810a45f69f119e21c27",
            "placeholder": "​",
            "style": "IPY_MODEL_61c06c762b5f4e20ba66cb7287f056e0",
            "value": " 6.27k/6.27k [00:00&lt;00:00, 203kB/s]"
          }
        },
        "1bed776f2f6649a89d3dd5f31d1dd24b": {
          "model_module": "@jupyter-widgets/base",
          "model_name": "LayoutModel",
          "model_module_version": "1.2.0",
          "state": {
            "_model_module": "@jupyter-widgets/base",
            "_model_module_version": "1.2.0",
            "_model_name": "LayoutModel",
            "_view_count": null,
            "_view_module": "@jupyter-widgets/base",
            "_view_module_version": "1.2.0",
            "_view_name": "LayoutView",
            "align_content": null,
            "align_items": null,
            "align_self": null,
            "border": null,
            "bottom": null,
            "display": null,
            "flex": null,
            "flex_flow": null,
            "grid_area": null,
            "grid_auto_columns": null,
            "grid_auto_flow": null,
            "grid_auto_rows": null,
            "grid_column": null,
            "grid_gap": null,
            "grid_row": null,
            "grid_template_areas": null,
            "grid_template_columns": null,
            "grid_template_rows": null,
            "height": null,
            "justify_content": null,
            "justify_items": null,
            "left": null,
            "margin": null,
            "max_height": null,
            "max_width": null,
            "min_height": null,
            "min_width": null,
            "object_fit": null,
            "object_position": null,
            "order": null,
            "overflow": null,
            "overflow_x": null,
            "overflow_y": null,
            "padding": null,
            "right": null,
            "top": null,
            "visibility": null,
            "width": null
          }
        },
        "b1ed5f90ec0a4fd6b91dffd3bee3b268": {
          "model_module": "@jupyter-widgets/base",
          "model_name": "LayoutModel",
          "model_module_version": "1.2.0",
          "state": {
            "_model_module": "@jupyter-widgets/base",
            "_model_module_version": "1.2.0",
            "_model_name": "LayoutModel",
            "_view_count": null,
            "_view_module": "@jupyter-widgets/base",
            "_view_module_version": "1.2.0",
            "_view_name": "LayoutView",
            "align_content": null,
            "align_items": null,
            "align_self": null,
            "border": null,
            "bottom": null,
            "display": null,
            "flex": null,
            "flex_flow": null,
            "grid_area": null,
            "grid_auto_columns": null,
            "grid_auto_flow": null,
            "grid_auto_rows": null,
            "grid_column": null,
            "grid_gap": null,
            "grid_row": null,
            "grid_template_areas": null,
            "grid_template_columns": null,
            "grid_template_rows": null,
            "height": null,
            "justify_content": null,
            "justify_items": null,
            "left": null,
            "margin": null,
            "max_height": null,
            "max_width": null,
            "min_height": null,
            "min_width": null,
            "object_fit": null,
            "object_position": null,
            "order": null,
            "overflow": null,
            "overflow_x": null,
            "overflow_y": null,
            "padding": null,
            "right": null,
            "top": null,
            "visibility": null,
            "width": null
          }
        },
        "107a7fd19eb749ff901e72966a0e162f": {
          "model_module": "@jupyter-widgets/controls",
          "model_name": "DescriptionStyleModel",
          "model_module_version": "1.5.0",
          "state": {
            "_model_module": "@jupyter-widgets/controls",
            "_model_module_version": "1.5.0",
            "_model_name": "DescriptionStyleModel",
            "_view_count": null,
            "_view_module": "@jupyter-widgets/base",
            "_view_module_version": "1.2.0",
            "_view_name": "StyleView",
            "description_width": ""
          }
        },
        "8c590444cfe54a03852d057e24afb934": {
          "model_module": "@jupyter-widgets/base",
          "model_name": "LayoutModel",
          "model_module_version": "1.2.0",
          "state": {
            "_model_module": "@jupyter-widgets/base",
            "_model_module_version": "1.2.0",
            "_model_name": "LayoutModel",
            "_view_count": null,
            "_view_module": "@jupyter-widgets/base",
            "_view_module_version": "1.2.0",
            "_view_name": "LayoutView",
            "align_content": null,
            "align_items": null,
            "align_self": null,
            "border": null,
            "bottom": null,
            "display": null,
            "flex": null,
            "flex_flow": null,
            "grid_area": null,
            "grid_auto_columns": null,
            "grid_auto_flow": null,
            "grid_auto_rows": null,
            "grid_column": null,
            "grid_gap": null,
            "grid_row": null,
            "grid_template_areas": null,
            "grid_template_columns": null,
            "grid_template_rows": null,
            "height": null,
            "justify_content": null,
            "justify_items": null,
            "left": null,
            "margin": null,
            "max_height": null,
            "max_width": null,
            "min_height": null,
            "min_width": null,
            "object_fit": null,
            "object_position": null,
            "order": null,
            "overflow": null,
            "overflow_x": null,
            "overflow_y": null,
            "padding": null,
            "right": null,
            "top": null,
            "visibility": null,
            "width": null
          }
        },
        "5f6ce474f8bb4f5b9a6df90bd0f45944": {
          "model_module": "@jupyter-widgets/controls",
          "model_name": "ProgressStyleModel",
          "model_module_version": "1.5.0",
          "state": {
            "_model_module": "@jupyter-widgets/controls",
            "_model_module_version": "1.5.0",
            "_model_name": "ProgressStyleModel",
            "_view_count": null,
            "_view_module": "@jupyter-widgets/base",
            "_view_module_version": "1.2.0",
            "_view_name": "StyleView",
            "bar_color": null,
            "description_width": ""
          }
        },
        "0bc4e3ed5e4b4810a45f69f119e21c27": {
          "model_module": "@jupyter-widgets/base",
          "model_name": "LayoutModel",
          "model_module_version": "1.2.0",
          "state": {
            "_model_module": "@jupyter-widgets/base",
            "_model_module_version": "1.2.0",
            "_model_name": "LayoutModel",
            "_view_count": null,
            "_view_module": "@jupyter-widgets/base",
            "_view_module_version": "1.2.0",
            "_view_name": "LayoutView",
            "align_content": null,
            "align_items": null,
            "align_self": null,
            "border": null,
            "bottom": null,
            "display": null,
            "flex": null,
            "flex_flow": null,
            "grid_area": null,
            "grid_auto_columns": null,
            "grid_auto_flow": null,
            "grid_auto_rows": null,
            "grid_column": null,
            "grid_gap": null,
            "grid_row": null,
            "grid_template_areas": null,
            "grid_template_columns": null,
            "grid_template_rows": null,
            "height": null,
            "justify_content": null,
            "justify_items": null,
            "left": null,
            "margin": null,
            "max_height": null,
            "max_width": null,
            "min_height": null,
            "min_width": null,
            "object_fit": null,
            "object_position": null,
            "order": null,
            "overflow": null,
            "overflow_x": null,
            "overflow_y": null,
            "padding": null,
            "right": null,
            "top": null,
            "visibility": null,
            "width": null
          }
        },
        "61c06c762b5f4e20ba66cb7287f056e0": {
          "model_module": "@jupyter-widgets/controls",
          "model_name": "DescriptionStyleModel",
          "model_module_version": "1.5.0",
          "state": {
            "_model_module": "@jupyter-widgets/controls",
            "_model_module_version": "1.5.0",
            "_model_name": "DescriptionStyleModel",
            "_view_count": null,
            "_view_module": "@jupyter-widgets/base",
            "_view_module_version": "1.2.0",
            "_view_name": "StyleView",
            "description_width": ""
          }
        }
      }
    }
  },
  "cells": [
    {
      "cell_type": "markdown",
      "source": [
        "#Simple EDA for IndoSum dataset"
      ],
      "metadata": {
        "id": "GQLui4G3Cwnq"
      }
    },
    {
      "cell_type": "markdown",
      "source": [
        "##Import everything needed"
      ],
      "metadata": {
        "id": "v47Bt5QLC0n4"
      }
    },
    {
      "cell_type": "code",
      "source": [
        "import pandas as pd\n",
        "import os\n",
        "import json\n",
        "import seaborn as sns\n",
        "import matplotlib.pyplot as plt\n",
        "import random\n",
        "import torch\n",
        "\n",
        "from tqdm import tqdm"
      ],
      "metadata": {
        "id": "hxlDbjQlCxU8"
      },
      "execution_count": 3,
      "outputs": []
    },
    {
      "cell_type": "code",
      "source": [
        "# global config\n",
        "\n",
        "sns.set_style('ticks')"
      ],
      "metadata": {
        "id": "VVcKTVfPC5RT"
      },
      "execution_count": 4,
      "outputs": []
    },
    {
      "cell_type": "code",
      "source": [
        "# install another depedencies\n",
        "\n",
        "!pip install evaluate rouge_score\n",
        "import evaluate"
      ],
      "metadata": {
        "colab": {
          "base_uri": "https://localhost:8080/"
        },
        "id": "sRBfMy2-I9Z-",
        "outputId": "57661af7-bfad-4e4b-b5b8-686905a8dbda"
      },
      "execution_count": 5,
      "outputs": [
        {
          "output_type": "stream",
          "name": "stdout",
          "text": [
            "Requirement already satisfied: evaluate in /usr/local/lib/python3.10/dist-packages (0.4.1)\n",
            "Requirement already satisfied: rouge_score in /usr/local/lib/python3.10/dist-packages (0.1.2)\n",
            "Requirement already satisfied: datasets>=2.0.0 in /usr/local/lib/python3.10/dist-packages (from evaluate) (2.15.0)\n",
            "Requirement already satisfied: numpy>=1.17 in /usr/local/lib/python3.10/dist-packages (from evaluate) (1.23.5)\n",
            "Requirement already satisfied: dill in /usr/local/lib/python3.10/dist-packages (from evaluate) (0.3.7)\n",
            "Requirement already satisfied: pandas in /usr/local/lib/python3.10/dist-packages (from evaluate) (1.5.3)\n",
            "Requirement already satisfied: requests>=2.19.0 in /usr/local/lib/python3.10/dist-packages (from evaluate) (2.31.0)\n",
            "Requirement already satisfied: tqdm>=4.62.1 in /usr/local/lib/python3.10/dist-packages (from evaluate) (4.66.1)\n",
            "Requirement already satisfied: xxhash in /usr/local/lib/python3.10/dist-packages (from evaluate) (3.4.1)\n",
            "Requirement already satisfied: multiprocess in /usr/local/lib/python3.10/dist-packages (from evaluate) (0.70.15)\n",
            "Requirement already satisfied: fsspec[http]>=2021.05.0 in /usr/local/lib/python3.10/dist-packages (from evaluate) (2023.6.0)\n",
            "Requirement already satisfied: huggingface-hub>=0.7.0 in /usr/local/lib/python3.10/dist-packages (from evaluate) (0.19.4)\n",
            "Requirement already satisfied: packaging in /usr/local/lib/python3.10/dist-packages (from evaluate) (23.2)\n",
            "Requirement already satisfied: responses<0.19 in /usr/local/lib/python3.10/dist-packages (from evaluate) (0.18.0)\n",
            "Requirement already satisfied: absl-py in /usr/local/lib/python3.10/dist-packages (from rouge_score) (1.4.0)\n",
            "Requirement already satisfied: nltk in /usr/local/lib/python3.10/dist-packages (from rouge_score) (3.8.1)\n",
            "Requirement already satisfied: six>=1.14.0 in /usr/local/lib/python3.10/dist-packages (from rouge_score) (1.16.0)\n",
            "Requirement already satisfied: pyarrow>=8.0.0 in /usr/local/lib/python3.10/dist-packages (from datasets>=2.0.0->evaluate) (9.0.0)\n",
            "Requirement already satisfied: pyarrow-hotfix in /usr/local/lib/python3.10/dist-packages (from datasets>=2.0.0->evaluate) (0.6)\n",
            "Requirement already satisfied: aiohttp in /usr/local/lib/python3.10/dist-packages (from datasets>=2.0.0->evaluate) (3.8.6)\n",
            "Requirement already satisfied: pyyaml>=5.1 in /usr/local/lib/python3.10/dist-packages (from datasets>=2.0.0->evaluate) (6.0.1)\n",
            "Requirement already satisfied: filelock in /usr/local/lib/python3.10/dist-packages (from huggingface-hub>=0.7.0->evaluate) (3.13.1)\n",
            "Requirement already satisfied: typing-extensions>=3.7.4.3 in /usr/local/lib/python3.10/dist-packages (from huggingface-hub>=0.7.0->evaluate) (4.5.0)\n",
            "Requirement already satisfied: charset-normalizer<4,>=2 in /usr/local/lib/python3.10/dist-packages (from requests>=2.19.0->evaluate) (3.3.2)\n",
            "Requirement already satisfied: idna<4,>=2.5 in /usr/local/lib/python3.10/dist-packages (from requests>=2.19.0->evaluate) (3.4)\n",
            "Requirement already satisfied: urllib3<3,>=1.21.1 in /usr/local/lib/python3.10/dist-packages (from requests>=2.19.0->evaluate) (2.0.7)\n",
            "Requirement already satisfied: certifi>=2017.4.17 in /usr/local/lib/python3.10/dist-packages (from requests>=2.19.0->evaluate) (2023.7.22)\n",
            "Requirement already satisfied: click in /usr/local/lib/python3.10/dist-packages (from nltk->rouge_score) (8.1.7)\n",
            "Requirement already satisfied: joblib in /usr/local/lib/python3.10/dist-packages (from nltk->rouge_score) (1.3.2)\n",
            "Requirement already satisfied: regex>=2021.8.3 in /usr/local/lib/python3.10/dist-packages (from nltk->rouge_score) (2023.6.3)\n",
            "Requirement already satisfied: python-dateutil>=2.8.1 in /usr/local/lib/python3.10/dist-packages (from pandas->evaluate) (2.8.2)\n",
            "Requirement already satisfied: pytz>=2020.1 in /usr/local/lib/python3.10/dist-packages (from pandas->evaluate) (2023.3.post1)\n",
            "Requirement already satisfied: attrs>=17.3.0 in /usr/local/lib/python3.10/dist-packages (from aiohttp->datasets>=2.0.0->evaluate) (23.1.0)\n",
            "Requirement already satisfied: multidict<7.0,>=4.5 in /usr/local/lib/python3.10/dist-packages (from aiohttp->datasets>=2.0.0->evaluate) (6.0.4)\n",
            "Requirement already satisfied: async-timeout<5.0,>=4.0.0a3 in /usr/local/lib/python3.10/dist-packages (from aiohttp->datasets>=2.0.0->evaluate) (4.0.3)\n",
            "Requirement already satisfied: yarl<2.0,>=1.0 in /usr/local/lib/python3.10/dist-packages (from aiohttp->datasets>=2.0.0->evaluate) (1.9.2)\n",
            "Requirement already satisfied: frozenlist>=1.1.1 in /usr/local/lib/python3.10/dist-packages (from aiohttp->datasets>=2.0.0->evaluate) (1.4.0)\n",
            "Requirement already satisfied: aiosignal>=1.1.2 in /usr/local/lib/python3.10/dist-packages (from aiohttp->datasets>=2.0.0->evaluate) (1.3.1)\n"
          ]
        }
      ]
    },
    {
      "cell_type": "markdown",
      "source": [
        "##Finding files"
      ],
      "metadata": {
        "id": "0iY2PW6ADChg"
      }
    },
    {
      "cell_type": "code",
      "source": [
        "! chmod 600 /content/kaggle.json"
      ],
      "metadata": {
        "id": "yqfIxl-2DDCU"
      },
      "execution_count": 6,
      "outputs": []
    },
    {
      "cell_type": "code",
      "source": [
        "! KAGGLE_CONFIG_DIR=/content/ kaggle datasets download -d linkgish/indosum"
      ],
      "metadata": {
        "colab": {
          "base_uri": "https://localhost:8080/"
        },
        "id": "QAib71syDGFG",
        "outputId": "b56652b1-ccb7-4920-eea6-b76e5a3a68a7"
      },
      "execution_count": 7,
      "outputs": [
        {
          "output_type": "stream",
          "name": "stdout",
          "text": [
            "indosum.zip: Skipping, found more recently modified local copy (use --force to force download)\n"
          ]
        }
      ]
    },
    {
      "cell_type": "code",
      "source": [
        "!unzip /content/indosum.zip"
      ],
      "metadata": {
        "colab": {
          "base_uri": "https://localhost:8080/"
        },
        "id": "uQDLkiJBDq8A",
        "outputId": "ec3cc967-c27e-46b3-9c9b-4883f4b89879"
      },
      "execution_count": 6,
      "outputs": [
        {
          "output_type": "stream",
          "name": "stdout",
          "text": [
            "Archive:  /content/indosum.zip\n",
            "  inflating: indosum/CHANGELOG.txt   \n",
            "  inflating: indosum/README.txt      \n",
            "  inflating: indosum/dev.01.jsonl    \n",
            "  inflating: indosum/dev.02.jsonl    \n",
            "  inflating: indosum/dev.03.jsonl    \n",
            "  inflating: indosum/dev.04.jsonl    \n",
            "  inflating: indosum/dev.05.jsonl    \n",
            "  inflating: indosum/test.01.jsonl   \n",
            "  inflating: indosum/test.02.jsonl   \n",
            "  inflating: indosum/test.03.jsonl   \n",
            "  inflating: indosum/test.04.jsonl   \n",
            "  inflating: indosum/test.05.jsonl   \n",
            "  inflating: indosum/train.01.jsonl  \n",
            "  inflating: indosum/train.02.jsonl  \n",
            "  inflating: indosum/train.03.jsonl  \n",
            "  inflating: indosum/train.04.jsonl  \n",
            "  inflating: indosum/train.05.jsonl  \n"
          ]
        }
      ]
    },
    {
      "cell_type": "code",
      "source": [
        "# Detect train, dev, and test files\n",
        "DATASET_ROOT = '/content/indosum'\n",
        "\n",
        "files_id_dir = os.listdir(DATASET_ROOT)\n",
        "train_files = []\n",
        "dev_files = []\n",
        "test_files = []\n",
        "\n",
        "for filename in files_id_dir:\n",
        "    if 'train' in filename:\n",
        "        train_files.append(filename)\n",
        "    elif 'dev' in filename:\n",
        "        dev_files.append(filename)\n",
        "    elif 'test' in filename:\n",
        "        test_files.append(filename)\n",
        "\n",
        "train_files, dev_files, test_files"
      ],
      "metadata": {
        "colab": {
          "base_uri": "https://localhost:8080/"
        },
        "id": "uZMQleMHDzlI",
        "outputId": "6b3b9277-230f-49ed-98b2-adc62dda4849"
      },
      "execution_count": 8,
      "outputs": [
        {
          "output_type": "execute_result",
          "data": {
            "text/plain": [
              "(['train.01.jsonl',\n",
              "  'train.04.jsonl',\n",
              "  'train.05.jsonl',\n",
              "  'train.02.jsonl',\n",
              "  'train.03.jsonl'],\n",
              " ['dev.03.jsonl',\n",
              "  'dev.04.jsonl',\n",
              "  'dev.05.jsonl',\n",
              "  'dev.02.jsonl',\n",
              "  'dev.01.jsonl'],\n",
              " ['test.04.jsonl',\n",
              "  'test.01.jsonl',\n",
              "  'test.03.jsonl',\n",
              "  'test.05.jsonl',\n",
              "  'test.02.jsonl'])"
            ]
          },
          "metadata": {},
          "execution_count": 8
        }
      ]
    },
    {
      "cell_type": "markdown",
      "source": [
        "##Pre-procesing Data"
      ],
      "metadata": {
        "id": "koY6t6FaD7YI"
      }
    },
    {
      "cell_type": "code",
      "source": [
        "def load_file_to_json_list(filename):\n",
        "    file = os.path.join(DATASET_ROOT, filename)\n",
        "    data = []\n",
        "    with open(file, 'r') as f:\n",
        "        json_list = list(f)\n",
        "        for json_str in tqdm(json_list, desc=f'Loading data {filename}'):\n",
        "            d = json.loads(json_str)\n",
        "            data.append(d)\n",
        "    return data"
      ],
      "metadata": {
        "id": "9V4whmNKD8BP"
      },
      "execution_count": 9,
      "outputs": []
    },
    {
      "cell_type": "code",
      "source": [
        "# only for testing purpose\n",
        "json_list = load_file_to_json_list(dev_files[0])\n",
        "len(json_list), json_list[0].keys()"
      ],
      "metadata": {
        "colab": {
          "base_uri": "https://localhost:8080/"
        },
        "id": "pPIg4YVBEB9V",
        "outputId": "8ff69bd0-8b92-4de7-a62f-c42b24a54415"
      },
      "execution_count": 10,
      "outputs": [
        {
          "output_type": "stream",
          "name": "stderr",
          "text": [
            "Loading data dev.03.jsonl: 100%|██████████| 747/747 [00:00<00:00, 12571.60it/s]\n"
          ]
        },
        {
          "output_type": "execute_result",
          "data": {
            "text/plain": [
              "(747,\n",
              " dict_keys(['category', 'gold_labels', 'id', 'paragraphs', 'source', 'source_url', 'summary']))"
            ]
          },
          "metadata": {},
          "execution_count": 10
        }
      ]
    },
    {
      "cell_type": "markdown",
      "source": [
        "Converter from raw data to more readable data"
      ],
      "metadata": {
        "id": "5vOdi-DoEF1H"
      }
    },
    {
      "cell_type": "code",
      "source": [
        "def label_to_dict_str(label_list):\n",
        "    label_dict = {} # key = paragraph_id : value = label list\n",
        "    for i, label in enumerate(label_list[:]):\n",
        "        label_dict[i] = label\n",
        "\n",
        "    json_str = json.dumps(label_dict)\n",
        "    num = len(label_dict)\n",
        "    return json_str, num"
      ],
      "metadata": {
        "id": "a1nyv7zHEGVq"
      },
      "execution_count": 11,
      "outputs": []
    },
    {
      "cell_type": "code",
      "source": [
        "# only for testing purpose\n",
        "label_to_dict_str(json_list[0]['gold_labels'])"
      ],
      "metadata": {
        "colab": {
          "base_uri": "https://localhost:8080/"
        },
        "id": "8VOC1e4ZEDDy",
        "outputId": "7e6cd230-1506-4235-cd19-5b4a7bdac3f6"
      },
      "execution_count": 12,
      "outputs": [
        {
          "output_type": "execute_result",
          "data": {
            "text/plain": [
              "('{\"0\": [true, true], \"1\": [false, false], \"2\": [true], \"3\": [false], \"4\": [false], \"5\": [false], \"6\": [false, false], \"7\": [false, false], \"8\": [false, false, false], \"9\": [false, false], \"10\": [false, false, false], \"11\": [false, false, false]}',\n",
              " 12)"
            ]
          },
          "metadata": {},
          "execution_count": 12
        }
      ]
    },
    {
      "cell_type": "code",
      "source": [
        "def paragraph_to_dict_str(paragraph_list):\n",
        "    paragraph_dict = {} # key = paragraph_id : value = paragraph list\n",
        "    for i, paragraph in enumerate(paragraph_list):\n",
        "        new_paragraph = []\n",
        "        for sentence in paragraph:\n",
        "            sentence = ' '.join(sentence)\n",
        "            new_paragraph.append(sentence)\n",
        "        paragraph_dict[i] = new_paragraph\n",
        "\n",
        "    json_str = json.dumps(paragraph_dict)\n",
        "    num = len(paragraph_dict)\n",
        "    return json_str, num"
      ],
      "metadata": {
        "id": "82TR2Vg5EL4U"
      },
      "execution_count": 13,
      "outputs": []
    },
    {
      "cell_type": "code",
      "source": [
        "# only for testing purpose\n",
        "paragraph_list = json_list[0]['paragraphs']\n",
        "paragraph_to_dict_str(paragraph_list)"
      ],
      "metadata": {
        "colab": {
          "base_uri": "https://localhost:8080/"
        },
        "id": "ofRzuosJEQzu",
        "outputId": "b110bd08-738c-4656-bc38-49a264df9ea2"
      },
      "execution_count": 14,
      "outputs": [
        {
          "output_type": "execute_result",
          "data": {
            "text/plain": [
              "('{\"0\": [\"Jakarta , CNN Indonesia - - Edward Snowden mengkritik kehadiran Google Allo sebagai ancaman baru terhadap privasi pengguna internet .\", \"Pembocor ribuan dokumen rahasia Amerika Serikat itu melabeli Allo sebagai aplikasi yang \\' berbahaya \\' dan harus dihindari .\"], \"1\": [\"\\\\\" Apa itu #Allo ?\", \"Sebuah aplikasi Google yang bisa merekam setiap pesan yang kalian kirim dan bisa diminta kepolisian , \\\\\" cuit Snowden di akun Twitter miliknya , kemarin ( 21 / 9 ) .\"], \"2\": [\"Google menciptakan Allo untuk bersaing dengan aplikasi pesan instan WhatsApp dengan mengusung sejumlah fitur andalan seperti chatbot Google Assistant dan Smart Reply .\"], \"3\": [\"Ia memprediksi Allo berencana mengumpulkan lebih banyak data penggunanya dengan fitur-fitur baru tersebut yang tercermin dari pernyataan Google .\"], \"4\": [\"\\\\\" Makin sering kita menggunakannya , kemampuan bot makin berkembang , \\\\\" ungkap Amit Fulay , manajer produk Google dalam brog resmi perusahaan .\"], \"5\": [\"Snowden mengartikan pernyataan Google tersebut sebagai pemberitahuan bahwa mereka akan menyimpan sebanyak mungkin data untuk menjawab kebutuhan penggunanya melalui kecerdasan buatan mereka .\"], \"6\": [\"Perubahan kebijakan Google yang diumumkan Rabu kemarin juga jadi salah satu kritik Snowden terhadap raksasa Sillicon Valley itu .\", \"Dalam pengumuman itu , Google berencana menyimpan seluruh percakapan walaupun tak dalam modus \\\\\" Incognito \\\\\" .\"], \"7\": [\"Tahun lalu , permintaan FBI dan NSA -lembaga keamanan siber AS tempat Snowden dulu bekerja - untuk mengawasi data pengguna internet sebanyak 1456 dikabulkan oleh otoritas hukum mereka .\", \"Penggunaan Allo akan menambah jumlah data yang bisa diakses oleh otoritas tadi .\"], \"8\": [\"\\\\\" Gratis diunduh hari ini : Google Mail , Google Maps , dan Google Pengawas .\", \"Yang terakhir itu maksudnya #Allo .\", \"Jangan pakai Allo , \\\\\" tulis Snowden .\"], \"9\": [\"Sebuah tulisan di The Verge mengkonfirmasi peringatan Snowden terhadap Allo .\", \"Laporan tersebut tertulis bahwa rekaman percakapan tak akan hilang dari database Google meskipun dihapus dari ruang percakapan .\"], \"10\": [\"Kebijakan Google di Allo sangat berbeda dengan langkah yang diambil WhatsApp yang telah memberlakukan enkripsi end-to-end dalam percakapan personal dan grup beberapa bulan lalu .\", \"Tanpa perlindungan enkripsi , data privasi Allo rawan terekspos .\", \"Namun WhatsApp juga jadi objek perbincangan dalam isu ini senjak kebijakan mereka membagi data pengguna WhatsApp ke Facebook .\"], \"11\": [\"Snowden sendiri saat ini masih dalam daftar buruan otoritas hukum AS dengan suaka yang ia terima di Rusia .\", \"Ia menjadi buruan utama pemerintah AS karena membocorkan aktivitas ilegal NSA yang memata-matai data dan kegiatan mayoritas masyarakat AS dan penduduk sejumlah negara .\", \"( evn )\"]}',\n",
              " 12)"
            ]
          },
          "metadata": {},
          "execution_count": 14
        }
      ]
    },
    {
      "cell_type": "code",
      "source": [
        "def paragraph_to_text(raw_paragraph_list):\n",
        "    new_paragraph_list = []\n",
        "    for i, paragraph in enumerate(raw_paragraph_list):\n",
        "        paragraph_list = []\n",
        "        for sentence in paragraph:\n",
        "            sentence = ' '.join(sentence)\n",
        "            paragraph_list.append(sentence)\n",
        "\n",
        "        new_paragraph = ' '.join(paragraph_list)\n",
        "        new_paragraph_list.append(new_paragraph)\n",
        "\n",
        "    paragraph_str = ' '.join(new_paragraph_list)\n",
        "    return paragraph_str"
      ],
      "metadata": {
        "id": "K8RkzrR7EVSe"
      },
      "execution_count": 15,
      "outputs": []
    },
    {
      "cell_type": "code",
      "source": [
        "pl = json_list[0]['paragraphs']\n",
        "paragraph_to_text(pl)"
      ],
      "metadata": {
        "colab": {
          "base_uri": "https://localhost:8080/",
          "height": 157
        },
        "id": "5f26NC7UEX1g",
        "outputId": "0a962ba0-0b09-4484-d34b-491828c7cc3b"
      },
      "execution_count": 16,
      "outputs": [
        {
          "output_type": "execute_result",
          "data": {
            "text/plain": [
              "'Jakarta , CNN Indonesia - - Edward Snowden mengkritik kehadiran Google Allo sebagai ancaman baru terhadap privasi pengguna internet . Pembocor ribuan dokumen rahasia Amerika Serikat itu melabeli Allo sebagai aplikasi yang \\' berbahaya \\' dan harus dihindari . \" Apa itu #Allo ? Sebuah aplikasi Google yang bisa merekam setiap pesan yang kalian kirim dan bisa diminta kepolisian , \" cuit Snowden di akun Twitter miliknya , kemarin ( 21 / 9 ) . Google menciptakan Allo untuk bersaing dengan aplikasi pesan instan WhatsApp dengan mengusung sejumlah fitur andalan seperti chatbot Google Assistant dan Smart Reply . Ia memprediksi Allo berencana mengumpulkan lebih banyak data penggunanya dengan fitur-fitur baru tersebut yang tercermin dari pernyataan Google . \" Makin sering kita menggunakannya , kemampuan bot makin berkembang , \" ungkap Amit Fulay , manajer produk Google dalam brog resmi perusahaan . Snowden mengartikan pernyataan Google tersebut sebagai pemberitahuan bahwa mereka akan menyimpan sebanyak mungkin data untuk menjawab kebutuhan penggunanya melalui kecerdasan buatan mereka . Perubahan kebijakan Google yang diumumkan Rabu kemarin juga jadi salah satu kritik Snowden terhadap raksasa Sillicon Valley itu . Dalam pengumuman itu , Google berencana menyimpan seluruh percakapan walaupun tak dalam modus \" Incognito \" . Tahun lalu , permintaan FBI dan NSA -lembaga keamanan siber AS tempat Snowden dulu bekerja - untuk mengawasi data pengguna internet sebanyak 1456 dikabulkan oleh otoritas hukum mereka . Penggunaan Allo akan menambah jumlah data yang bisa diakses oleh otoritas tadi . \" Gratis diunduh hari ini : Google Mail , Google Maps , dan Google Pengawas . Yang terakhir itu maksudnya #Allo . Jangan pakai Allo , \" tulis Snowden . Sebuah tulisan di The Verge mengkonfirmasi peringatan Snowden terhadap Allo . Laporan tersebut tertulis bahwa rekaman percakapan tak akan hilang dari database Google meskipun dihapus dari ruang percakapan . Kebijakan Google di Allo sangat berbeda dengan langkah yang diambil WhatsApp yang telah memberlakukan enkripsi end-to-end dalam percakapan personal dan grup beberapa bulan lalu . Tanpa perlindungan enkripsi , data privasi Allo rawan terekspos . Namun WhatsApp juga jadi objek perbincangan dalam isu ini senjak kebijakan mereka membagi data pengguna WhatsApp ke Facebook . Snowden sendiri saat ini masih dalam daftar buruan otoritas hukum AS dengan suaka yang ia terima di Rusia . Ia menjadi buruan utama pemerintah AS karena membocorkan aktivitas ilegal NSA yang memata-matai data dan kegiatan mayoritas masyarakat AS dan penduduk sejumlah negara . ( evn )'"
            ],
            "application/vnd.google.colaboratory.intrinsic+json": {
              "type": "string"
            }
          },
          "metadata": {},
          "execution_count": 16
        }
      ]
    },
    {
      "cell_type": "code",
      "source": [
        "def summary_to_dict_str(summary_list):\n",
        "    summary_dict = {} # key = summary_id : value = summary sentence\n",
        "    for i, summary in enumerate(summary_list):\n",
        "        summary_dict[i] = ' '.join(summary)\n",
        "\n",
        "    json_str = json.dumps(summary_dict)\n",
        "    num = len(summary_dict)\n",
        "    return json_str, num"
      ],
      "metadata": {
        "id": "EX1lVVr1Ea9w"
      },
      "execution_count": 17,
      "outputs": []
    },
    {
      "cell_type": "code",
      "source": [
        "# only for testing purpose\n",
        "summary_to_dict_str(json_list[0]['summary'])"
      ],
      "metadata": {
        "colab": {
          "base_uri": "https://localhost:8080/"
        },
        "id": "RhqQIoNLEdHy",
        "outputId": "e1d581b5-2a57-4e04-89da-ca504d57ca57"
      },
      "execution_count": 18,
      "outputs": [
        {
          "output_type": "execute_result",
          "data": {
            "text/plain": [
              "('{\"0\": \"Edward Snowden , pembocor ribuan dokumen rahasia Amerika Serikat , mengkritik kehadiran Google Allo sebagai ancaman baru terhadap privasi pengguna internet .\", \"1\": \"Menurutnya , Allo adalah aplikasi yang \\' berbahaya \\' dan harus dihindari .\", \"2\": \"Google menciptakan Allo untuk bersaing dengan aplikasi pesan instan WhatsApp dengan mengusung sejumlah fitur andalan seperti chatbot Google Assistant dan Smart Reply .\", \"3\": \"Allo berencana mengumpulkan banyak data penggunanya .\"}',\n",
              " 4)"
            ]
          },
          "metadata": {},
          "execution_count": 18
        }
      ]
    },
    {
      "cell_type": "code",
      "source": [
        "def summary_to_text(raw_summary_list):\n",
        "    summary_list = []\n",
        "    for i, summary in enumerate(raw_summary_list):\n",
        "        summary_list.append(' '.join(summary))\n",
        "\n",
        "    summary_str = ' '.join(summary_list)\n",
        "    return summary_str"
      ],
      "metadata": {
        "id": "JA2s2VFOEgR3"
      },
      "execution_count": 19,
      "outputs": []
    },
    {
      "cell_type": "code",
      "source": [
        "# only for testing purpose\n",
        "summary_to_text(json_list[0]['summary'])"
      ],
      "metadata": {
        "colab": {
          "base_uri": "https://localhost:8080/",
          "height": 87
        },
        "id": "pEhYUzsjEg-p",
        "outputId": "0dc084b7-d97e-4726-85cd-99b2a4280484"
      },
      "execution_count": 20,
      "outputs": [
        {
          "output_type": "execute_result",
          "data": {
            "text/plain": [
              "\"Edward Snowden , pembocor ribuan dokumen rahasia Amerika Serikat , mengkritik kehadiran Google Allo sebagai ancaman baru terhadap privasi pengguna internet . Menurutnya , Allo adalah aplikasi yang ' berbahaya ' dan harus dihindari . Google menciptakan Allo untuk bersaing dengan aplikasi pesan instan WhatsApp dengan mengusung sejumlah fitur andalan seperti chatbot Google Assistant dan Smart Reply . Allo berencana mengumpulkan banyak data penggunanya .\""
            ],
            "application/vnd.google.colaboratory.intrinsic+json": {
              "type": "string"
            }
          },
          "metadata": {},
          "execution_count": 20
        }
      ]
    },
    {
      "cell_type": "markdown",
      "source": [
        "Altering raw data to a new format"
      ],
      "metadata": {
        "id": "EBzmTgTmElQn"
      }
    },
    {
      "cell_type": "code",
      "source": [
        "def alter_json_data(json_list_data, filename=''):\n",
        "    new_json_list = []\n",
        "    for json_data in tqdm(json_list_data, desc=f'Altering json data {filename}'):\n",
        "        json_data = json_data.copy()\n",
        "        json_data['gold_labels'], _ = label_to_dict_str(json_data['gold_labels'])\n",
        "        json_data['news_text'] = paragraph_to_text(json_data['paragraphs'])\n",
        "        json_data['paragraphs'], num_paragraph = paragraph_to_dict_str(json_data['paragraphs'])\n",
        "        json_data['num_of_paragraphs'] = num_paragraph\n",
        "        json_data['summary_text'] = summary_to_text(json_data['summary'])\n",
        "        json_data['summary'], num_summary = summary_to_dict_str(json_data['summary'])\n",
        "        json_data['num_of_summary'] = num_summary\n",
        "\n",
        "        new_json_list.append(json_data)\n",
        "\n",
        "    return new_json_list"
      ],
      "metadata": {
        "id": "y0w_smhIEloE"
      },
      "execution_count": 21,
      "outputs": []
    },
    {
      "cell_type": "code",
      "source": [
        "# only for testing purpose\n",
        "json_list_alter = alter_json_data(json_list)\n",
        "len(json_list_alter)"
      ],
      "metadata": {
        "colab": {
          "base_uri": "https://localhost:8080/"
        },
        "id": "lrq3WBqrEq6m",
        "outputId": "ba754926-7525-424d-fee2-641aa896f06c"
      },
      "execution_count": 22,
      "outputs": [
        {
          "output_type": "stream",
          "name": "stderr",
          "text": [
            "Altering json data : 100%|██████████| 747/747 [00:00<00:00, 4961.71it/s]\n"
          ]
        },
        {
          "output_type": "execute_result",
          "data": {
            "text/plain": [
              "747"
            ]
          },
          "metadata": {},
          "execution_count": 22
        }
      ]
    },
    {
      "cell_type": "markdown",
      "source": [
        "Create pandas DataFrame"
      ],
      "metadata": {
        "id": "82kPM5_5EuvJ"
      }
    },
    {
      "cell_type": "code",
      "source": [
        "def create_dataset(jsonl):\n",
        "    header = list(jsonl[0].keys())\n",
        "    dataset_list = []\n",
        "    for json_data in jsonl:\n",
        "        row = []\n",
        "        for h in header:\n",
        "            row.append(json_data[h])\n",
        "        dataset_list.append(row)\n",
        "\n",
        "    return header, dataset_list"
      ],
      "metadata": {
        "id": "Wx9iQuvqEvNo"
      },
      "execution_count": 23,
      "outputs": []
    },
    {
      "cell_type": "code",
      "source": [
        "def create_dataset_from_files(file_list):\n",
        "    df_header = None\n",
        "    dataset_list = []\n",
        "    for filename in file_list:\n",
        "        json_l = load_file_to_json_list(filename)\n",
        "        new_json_l = alter_json_data(json_l, filename)\n",
        "        header, dataset_part = create_dataset(new_json_l)\n",
        "\n",
        "        if not df_header: df_header = header\n",
        "        dataset_list.extend(dataset_part)\n",
        "\n",
        "    df_full = pd.DataFrame().from_records(dataset_list)\n",
        "    df_full = df_full.rename(columns=dict(enumerate(header)))\n",
        "    return df_full"
      ],
      "metadata": {
        "id": "0Z3QhTjuEr2v"
      },
      "execution_count": 24,
      "outputs": []
    },
    {
      "cell_type": "code",
      "source": [
        "df_train = create_dataset_from_files(train_files)\n",
        "df_dev = create_dataset_from_files(dev_files)\n",
        "df_test = create_dataset_from_files(test_files)"
      ],
      "metadata": {
        "colab": {
          "base_uri": "https://localhost:8080/"
        },
        "id": "8Ap5tm3JE1CB",
        "outputId": "345bc0ba-7e23-4933-e20e-692779efc90b"
      },
      "execution_count": 25,
      "outputs": [
        {
          "output_type": "stream",
          "name": "stderr",
          "text": [
            "Loading data train.01.jsonl: 100%|██████████| 14262/14262 [00:06<00:00, 2334.81it/s]\n",
            "Altering json data train.01.jsonl: 100%|██████████| 14262/14262 [00:02<00:00, 5646.89it/s]\n",
            "Loading data train.04.jsonl: 100%|██████████| 14272/14272 [00:07<00:00, 1964.62it/s]\n",
            "Altering json data train.04.jsonl: 100%|██████████| 14272/14272 [00:05<00:00, 2400.31it/s]\n",
            "Loading data train.05.jsonl: 100%|██████████| 14266/14266 [00:05<00:00, 2690.08it/s]\n",
            "Altering json data train.05.jsonl: 100%|██████████| 14266/14266 [00:03<00:00, 4354.37it/s]\n",
            "Loading data train.02.jsonl: 100%|██████████| 14263/14263 [00:04<00:00, 2956.30it/s]\n",
            "Altering json data train.02.jsonl: 100%|██████████| 14263/14263 [00:01<00:00, 11874.52it/s]\n",
            "Loading data train.03.jsonl: 100%|██████████| 14290/14290 [00:02<00:00, 4822.01it/s] \n",
            "Altering json data train.03.jsonl: 100%|██████████| 14290/14290 [00:01<00:00, 11726.61it/s]\n",
            "Loading data dev.03.jsonl: 100%|██████████| 747/747 [00:00<00:00, 15459.04it/s]\n",
            "Altering json data dev.03.jsonl: 100%|██████████| 747/747 [00:00<00:00, 11280.13it/s]\n",
            "Loading data dev.04.jsonl: 100%|██████████| 750/750 [00:00<00:00, 14661.78it/s]\n",
            "Altering json data dev.04.jsonl: 100%|██████████| 750/750 [00:00<00:00, 11682.43it/s]\n",
            "Loading data dev.05.jsonl: 100%|██████████| 747/747 [00:00<00:00, 14152.02it/s]\n",
            "Altering json data dev.05.jsonl: 100%|██████████| 747/747 [00:00<00:00, 12199.01it/s]\n",
            "Loading data dev.02.jsonl: 100%|██████████| 749/749 [00:00<00:00, 13780.59it/s]\n",
            "Altering json data dev.02.jsonl: 100%|██████████| 749/749 [00:00<00:00, 11934.15it/s]\n",
            "Loading data dev.01.jsonl: 100%|██████████| 750/750 [00:00<00:00, 13496.29it/s]\n",
            "Altering json data dev.01.jsonl: 100%|██████████| 750/750 [00:00<00:00, 12089.98it/s]\n",
            "Loading data test.04.jsonl: 100%|██████████| 3752/3752 [00:00<00:00, 14157.31it/s]\n",
            "Altering json data test.04.jsonl: 100%|██████████| 3752/3752 [00:00<00:00, 11421.31it/s]\n",
            "Loading data test.01.jsonl: 100%|██████████| 3762/3762 [00:01<00:00, 3528.92it/s]\n",
            "Altering json data test.01.jsonl: 100%|██████████| 3762/3762 [00:00<00:00, 6566.57it/s]\n",
            "Loading data test.03.jsonl: 100%|██████████| 3737/3737 [00:00<00:00, 8963.91it/s]\n",
            "Altering json data test.03.jsonl: 100%|██████████| 3737/3737 [00:00<00:00, 6353.29it/s]\n",
            "Loading data test.05.jsonl: 100%|██████████| 3761/3761 [00:01<00:00, 3736.14it/s]\n",
            "Altering json data test.05.jsonl: 100%|██████████| 3761/3761 [00:00<00:00, 6740.23it/s]\n",
            "Loading data test.02.jsonl: 100%|██████████| 3762/3762 [00:00<00:00, 4826.95it/s]\n",
            "Altering json data test.02.jsonl: 100%|██████████| 3762/3762 [00:00<00:00, 11181.69it/s]\n"
          ]
        }
      ]
    },
    {
      "cell_type": "code",
      "source": [
        "df_train.head()"
      ],
      "metadata": {
        "colab": {
          "base_uri": "https://localhost:8080/",
          "height": 608
        },
        "id": "De4F0x7uE6kt",
        "outputId": "591ee2e6-92f4-4560-9d06-2d25ec174b86"
      },
      "execution_count": 26,
      "outputs": [
        {
          "output_type": "execute_result",
          "data": {
            "text/plain": [
              "      category                                        gold_labels  \\\n",
              "0  tajuk utama  {\"0\": [false, true], \"1\": [true, true], \"2\": [...   \n",
              "1    teknologi  {\"0\": [false, false, false, false], \"1\": [fals...   \n",
              "2      hiburan  {\"0\": [true], \"1\": [true], \"2\": [false, false]...   \n",
              "3  tajuk utama  {\"0\": [true, true], \"1\": [false, false, false]...   \n",
              "4  tajuk utama  {\"0\": [false, true], \"1\": [true, true, true], ...   \n",
              "\n",
              "                                                  id  \\\n",
              "0  1501893029-lula-kamal-dokter-ryan-thamrin-saki...   \n",
              "1  1509072914-dua-smartphone-zenfone-baru-tawarka...   \n",
              "2  1510613677-songsong-visit-2020-bengkulu-perkua...   \n",
              "3  1502706803-icw-ada-kejanggalan-atas-tewasnya-s...   \n",
              "4  1503039338-pembagian-sepeda-usai-upacara-penur...   \n",
              "\n",
              "                                          paragraphs          source  \\\n",
              "0  {\"0\": [\"Jakarta , CNN Indonesia - - Dokter Rya...   cnn indonesia   \n",
              "1  {\"0\": [\"Selfie ialah salah satu tema terpanas ...  dailysocial.id   \n",
              "2  {\"0\": [\"Jakarta , CNN Indonesia - - Dinas Pari...   cnn indonesia   \n",
              "3  {\"0\": [\"Merdeka.com - Indonesia Corruption Wat...         merdeka   \n",
              "4  {\"0\": [\"Merdeka.com - Presiden Joko Widodo ( J...         merdeka   \n",
              "\n",
              "                                          source_url  \\\n",
              "0  https://www.cnnindonesia.com/hiburan/201708041...   \n",
              "1  https://dailysocial.id/post/dua-smartphone-zen...   \n",
              "2  https://www.cnnindonesia.com/gaya-hidup/201711...   \n",
              "3  https://www.merdeka.com/peristiwa/icw-merasa-a...   \n",
              "4  https://www.merdeka.com/peristiwa/usai-upacara...   \n",
              "\n",
              "                                             summary  \\\n",
              "0  {\"0\": \"Dokter Lula Kamal yang merupakan selebr...   \n",
              "1  {\"0\": \"Asus memperkenalkan \\u00a0 ZenFone gene...   \n",
              "2  {\"0\": \"Dinas Pariwisata Provinsi Bengkulu kemb...   \n",
              "3  {\"0\": \"Indonesia Corruption Watch ( ICW ) memi...   \n",
              "4  {\"0\": \"Jokowi memimpin upacara penurunan bende...   \n",
              "\n",
              "                                           news_text  num_of_paragraphs  \\\n",
              "0  Jakarta , CNN Indonesia - - Dokter Ryan Thamri...                  9   \n",
              "1  Selfie ialah salah satu tema terpanas di kalan...                 14   \n",
              "2  Jakarta , CNN Indonesia - - Dinas Pariwisata P...                 21   \n",
              "3  Merdeka.com - Indonesia Corruption Watch ( ICW...                  5   \n",
              "4  Merdeka.com - Presiden Joko Widodo ( Jokowi ) ...                  7   \n",
              "\n",
              "                                        summary_text  num_of_summary  \n",
              "0  Dokter Lula Kamal yang merupakan selebriti sek...               3  \n",
              "1  Asus memperkenalkan   ZenFone generasi keempat...               3  \n",
              "2  Dinas Pariwisata Provinsi Bengkulu kembali men...               2  \n",
              "3  Indonesia Corruption Watch ( ICW ) meminta Kom...               2  \n",
              "4  Jokowi memimpin upacara penurunan bendera . Us...               5  "
            ],
            "text/html": [
              "\n",
              "  <div id=\"df-bdab95b2-33b6-4259-9aec-e491ea98b143\" class=\"colab-df-container\">\n",
              "    <div>\n",
              "<style scoped>\n",
              "    .dataframe tbody tr th:only-of-type {\n",
              "        vertical-align: middle;\n",
              "    }\n",
              "\n",
              "    .dataframe tbody tr th {\n",
              "        vertical-align: top;\n",
              "    }\n",
              "\n",
              "    .dataframe thead th {\n",
              "        text-align: right;\n",
              "    }\n",
              "</style>\n",
              "<table border=\"1\" class=\"dataframe\">\n",
              "  <thead>\n",
              "    <tr style=\"text-align: right;\">\n",
              "      <th></th>\n",
              "      <th>category</th>\n",
              "      <th>gold_labels</th>\n",
              "      <th>id</th>\n",
              "      <th>paragraphs</th>\n",
              "      <th>source</th>\n",
              "      <th>source_url</th>\n",
              "      <th>summary</th>\n",
              "      <th>news_text</th>\n",
              "      <th>num_of_paragraphs</th>\n",
              "      <th>summary_text</th>\n",
              "      <th>num_of_summary</th>\n",
              "    </tr>\n",
              "  </thead>\n",
              "  <tbody>\n",
              "    <tr>\n",
              "      <th>0</th>\n",
              "      <td>tajuk utama</td>\n",
              "      <td>{\"0\": [false, true], \"1\": [true, true], \"2\": [...</td>\n",
              "      <td>1501893029-lula-kamal-dokter-ryan-thamrin-saki...</td>\n",
              "      <td>{\"0\": [\"Jakarta , CNN Indonesia - - Dokter Rya...</td>\n",
              "      <td>cnn indonesia</td>\n",
              "      <td>https://www.cnnindonesia.com/hiburan/201708041...</td>\n",
              "      <td>{\"0\": \"Dokter Lula Kamal yang merupakan selebr...</td>\n",
              "      <td>Jakarta , CNN Indonesia - - Dokter Ryan Thamri...</td>\n",
              "      <td>9</td>\n",
              "      <td>Dokter Lula Kamal yang merupakan selebriti sek...</td>\n",
              "      <td>3</td>\n",
              "    </tr>\n",
              "    <tr>\n",
              "      <th>1</th>\n",
              "      <td>teknologi</td>\n",
              "      <td>{\"0\": [false, false, false, false], \"1\": [fals...</td>\n",
              "      <td>1509072914-dua-smartphone-zenfone-baru-tawarka...</td>\n",
              "      <td>{\"0\": [\"Selfie ialah salah satu tema terpanas ...</td>\n",
              "      <td>dailysocial.id</td>\n",
              "      <td>https://dailysocial.id/post/dua-smartphone-zen...</td>\n",
              "      <td>{\"0\": \"Asus memperkenalkan \\u00a0 ZenFone gene...</td>\n",
              "      <td>Selfie ialah salah satu tema terpanas di kalan...</td>\n",
              "      <td>14</td>\n",
              "      <td>Asus memperkenalkan   ZenFone generasi keempat...</td>\n",
              "      <td>3</td>\n",
              "    </tr>\n",
              "    <tr>\n",
              "      <th>2</th>\n",
              "      <td>hiburan</td>\n",
              "      <td>{\"0\": [true], \"1\": [true], \"2\": [false, false]...</td>\n",
              "      <td>1510613677-songsong-visit-2020-bengkulu-perkua...</td>\n",
              "      <td>{\"0\": [\"Jakarta , CNN Indonesia - - Dinas Pari...</td>\n",
              "      <td>cnn indonesia</td>\n",
              "      <td>https://www.cnnindonesia.com/gaya-hidup/201711...</td>\n",
              "      <td>{\"0\": \"Dinas Pariwisata Provinsi Bengkulu kemb...</td>\n",
              "      <td>Jakarta , CNN Indonesia - - Dinas Pariwisata P...</td>\n",
              "      <td>21</td>\n",
              "      <td>Dinas Pariwisata Provinsi Bengkulu kembali men...</td>\n",
              "      <td>2</td>\n",
              "    </tr>\n",
              "    <tr>\n",
              "      <th>3</th>\n",
              "      <td>tajuk utama</td>\n",
              "      <td>{\"0\": [true, true], \"1\": [false, false, false]...</td>\n",
              "      <td>1502706803-icw-ada-kejanggalan-atas-tewasnya-s...</td>\n",
              "      <td>{\"0\": [\"Merdeka.com - Indonesia Corruption Wat...</td>\n",
              "      <td>merdeka</td>\n",
              "      <td>https://www.merdeka.com/peristiwa/icw-merasa-a...</td>\n",
              "      <td>{\"0\": \"Indonesia Corruption Watch ( ICW ) memi...</td>\n",
              "      <td>Merdeka.com - Indonesia Corruption Watch ( ICW...</td>\n",
              "      <td>5</td>\n",
              "      <td>Indonesia Corruption Watch ( ICW ) meminta Kom...</td>\n",
              "      <td>2</td>\n",
              "    </tr>\n",
              "    <tr>\n",
              "      <th>4</th>\n",
              "      <td>tajuk utama</td>\n",
              "      <td>{\"0\": [false, true], \"1\": [true, true, true], ...</td>\n",
              "      <td>1503039338-pembagian-sepeda-usai-upacara-penur...</td>\n",
              "      <td>{\"0\": [\"Merdeka.com - Presiden Joko Widodo ( J...</td>\n",
              "      <td>merdeka</td>\n",
              "      <td>https://www.merdeka.com/peristiwa/usai-upacara...</td>\n",
              "      <td>{\"0\": \"Jokowi memimpin upacara penurunan bende...</td>\n",
              "      <td>Merdeka.com - Presiden Joko Widodo ( Jokowi ) ...</td>\n",
              "      <td>7</td>\n",
              "      <td>Jokowi memimpin upacara penurunan bendera . Us...</td>\n",
              "      <td>5</td>\n",
              "    </tr>\n",
              "  </tbody>\n",
              "</table>\n",
              "</div>\n",
              "    <div class=\"colab-df-buttons\">\n",
              "\n",
              "  <div class=\"colab-df-container\">\n",
              "    <button class=\"colab-df-convert\" onclick=\"convertToInteractive('df-bdab95b2-33b6-4259-9aec-e491ea98b143')\"\n",
              "            title=\"Convert this dataframe to an interactive table.\"\n",
              "            style=\"display:none;\">\n",
              "\n",
              "  <svg xmlns=\"http://www.w3.org/2000/svg\" height=\"24px\" viewBox=\"0 -960 960 960\">\n",
              "    <path d=\"M120-120v-720h720v720H120Zm60-500h600v-160H180v160Zm220 220h160v-160H400v160Zm0 220h160v-160H400v160ZM180-400h160v-160H180v160Zm440 0h160v-160H620v160ZM180-180h160v-160H180v160Zm440 0h160v-160H620v160Z\"/>\n",
              "  </svg>\n",
              "    </button>\n",
              "\n",
              "  <style>\n",
              "    .colab-df-container {\n",
              "      display:flex;\n",
              "      gap: 12px;\n",
              "    }\n",
              "\n",
              "    .colab-df-convert {\n",
              "      background-color: #E8F0FE;\n",
              "      border: none;\n",
              "      border-radius: 50%;\n",
              "      cursor: pointer;\n",
              "      display: none;\n",
              "      fill: #1967D2;\n",
              "      height: 32px;\n",
              "      padding: 0 0 0 0;\n",
              "      width: 32px;\n",
              "    }\n",
              "\n",
              "    .colab-df-convert:hover {\n",
              "      background-color: #E2EBFA;\n",
              "      box-shadow: 0px 1px 2px rgba(60, 64, 67, 0.3), 0px 1px 3px 1px rgba(60, 64, 67, 0.15);\n",
              "      fill: #174EA6;\n",
              "    }\n",
              "\n",
              "    .colab-df-buttons div {\n",
              "      margin-bottom: 4px;\n",
              "    }\n",
              "\n",
              "    [theme=dark] .colab-df-convert {\n",
              "      background-color: #3B4455;\n",
              "      fill: #D2E3FC;\n",
              "    }\n",
              "\n",
              "    [theme=dark] .colab-df-convert:hover {\n",
              "      background-color: #434B5C;\n",
              "      box-shadow: 0px 1px 3px 1px rgba(0, 0, 0, 0.15);\n",
              "      filter: drop-shadow(0px 1px 2px rgba(0, 0, 0, 0.3));\n",
              "      fill: #FFFFFF;\n",
              "    }\n",
              "  </style>\n",
              "\n",
              "    <script>\n",
              "      const buttonEl =\n",
              "        document.querySelector('#df-bdab95b2-33b6-4259-9aec-e491ea98b143 button.colab-df-convert');\n",
              "      buttonEl.style.display =\n",
              "        google.colab.kernel.accessAllowed ? 'block' : 'none';\n",
              "\n",
              "      async function convertToInteractive(key) {\n",
              "        const element = document.querySelector('#df-bdab95b2-33b6-4259-9aec-e491ea98b143');\n",
              "        const dataTable =\n",
              "          await google.colab.kernel.invokeFunction('convertToInteractive',\n",
              "                                                    [key], {});\n",
              "        if (!dataTable) return;\n",
              "\n",
              "        const docLinkHtml = 'Like what you see? Visit the ' +\n",
              "          '<a target=\"_blank\" href=https://colab.research.google.com/notebooks/data_table.ipynb>data table notebook</a>'\n",
              "          + ' to learn more about interactive tables.';\n",
              "        element.innerHTML = '';\n",
              "        dataTable['output_type'] = 'display_data';\n",
              "        await google.colab.output.renderOutput(dataTable, element);\n",
              "        const docLink = document.createElement('div');\n",
              "        docLink.innerHTML = docLinkHtml;\n",
              "        element.appendChild(docLink);\n",
              "      }\n",
              "    </script>\n",
              "  </div>\n",
              "\n",
              "\n",
              "<div id=\"df-51897322-4897-4856-bd43-9cf8a226f0b7\">\n",
              "  <button class=\"colab-df-quickchart\" onclick=\"quickchart('df-51897322-4897-4856-bd43-9cf8a226f0b7')\"\n",
              "            title=\"Suggest charts\"\n",
              "            style=\"display:none;\">\n",
              "\n",
              "<svg xmlns=\"http://www.w3.org/2000/svg\" height=\"24px\"viewBox=\"0 0 24 24\"\n",
              "     width=\"24px\">\n",
              "    <g>\n",
              "        <path d=\"M19 3H5c-1.1 0-2 .9-2 2v14c0 1.1.9 2 2 2h14c1.1 0 2-.9 2-2V5c0-1.1-.9-2-2-2zM9 17H7v-7h2v7zm4 0h-2V7h2v10zm4 0h-2v-4h2v4z\"/>\n",
              "    </g>\n",
              "</svg>\n",
              "  </button>\n",
              "\n",
              "<style>\n",
              "  .colab-df-quickchart {\n",
              "      --bg-color: #E8F0FE;\n",
              "      --fill-color: #1967D2;\n",
              "      --hover-bg-color: #E2EBFA;\n",
              "      --hover-fill-color: #174EA6;\n",
              "      --disabled-fill-color: #AAA;\n",
              "      --disabled-bg-color: #DDD;\n",
              "  }\n",
              "\n",
              "  [theme=dark] .colab-df-quickchart {\n",
              "      --bg-color: #3B4455;\n",
              "      --fill-color: #D2E3FC;\n",
              "      --hover-bg-color: #434B5C;\n",
              "      --hover-fill-color: #FFFFFF;\n",
              "      --disabled-bg-color: #3B4455;\n",
              "      --disabled-fill-color: #666;\n",
              "  }\n",
              "\n",
              "  .colab-df-quickchart {\n",
              "    background-color: var(--bg-color);\n",
              "    border: none;\n",
              "    border-radius: 50%;\n",
              "    cursor: pointer;\n",
              "    display: none;\n",
              "    fill: var(--fill-color);\n",
              "    height: 32px;\n",
              "    padding: 0;\n",
              "    width: 32px;\n",
              "  }\n",
              "\n",
              "  .colab-df-quickchart:hover {\n",
              "    background-color: var(--hover-bg-color);\n",
              "    box-shadow: 0 1px 2px rgba(60, 64, 67, 0.3), 0 1px 3px 1px rgba(60, 64, 67, 0.15);\n",
              "    fill: var(--button-hover-fill-color);\n",
              "  }\n",
              "\n",
              "  .colab-df-quickchart-complete:disabled,\n",
              "  .colab-df-quickchart-complete:disabled:hover {\n",
              "    background-color: var(--disabled-bg-color);\n",
              "    fill: var(--disabled-fill-color);\n",
              "    box-shadow: none;\n",
              "  }\n",
              "\n",
              "  .colab-df-spinner {\n",
              "    border: 2px solid var(--fill-color);\n",
              "    border-color: transparent;\n",
              "    border-bottom-color: var(--fill-color);\n",
              "    animation:\n",
              "      spin 1s steps(1) infinite;\n",
              "  }\n",
              "\n",
              "  @keyframes spin {\n",
              "    0% {\n",
              "      border-color: transparent;\n",
              "      border-bottom-color: var(--fill-color);\n",
              "      border-left-color: var(--fill-color);\n",
              "    }\n",
              "    20% {\n",
              "      border-color: transparent;\n",
              "      border-left-color: var(--fill-color);\n",
              "      border-top-color: var(--fill-color);\n",
              "    }\n",
              "    30% {\n",
              "      border-color: transparent;\n",
              "      border-left-color: var(--fill-color);\n",
              "      border-top-color: var(--fill-color);\n",
              "      border-right-color: var(--fill-color);\n",
              "    }\n",
              "    40% {\n",
              "      border-color: transparent;\n",
              "      border-right-color: var(--fill-color);\n",
              "      border-top-color: var(--fill-color);\n",
              "    }\n",
              "    60% {\n",
              "      border-color: transparent;\n",
              "      border-right-color: var(--fill-color);\n",
              "    }\n",
              "    80% {\n",
              "      border-color: transparent;\n",
              "      border-right-color: var(--fill-color);\n",
              "      border-bottom-color: var(--fill-color);\n",
              "    }\n",
              "    90% {\n",
              "      border-color: transparent;\n",
              "      border-bottom-color: var(--fill-color);\n",
              "    }\n",
              "  }\n",
              "</style>\n",
              "\n",
              "  <script>\n",
              "    async function quickchart(key) {\n",
              "      const quickchartButtonEl =\n",
              "        document.querySelector('#' + key + ' button');\n",
              "      quickchartButtonEl.disabled = true;  // To prevent multiple clicks.\n",
              "      quickchartButtonEl.classList.add('colab-df-spinner');\n",
              "      try {\n",
              "        const charts = await google.colab.kernel.invokeFunction(\n",
              "            'suggestCharts', [key], {});\n",
              "      } catch (error) {\n",
              "        console.error('Error during call to suggestCharts:', error);\n",
              "      }\n",
              "      quickchartButtonEl.classList.remove('colab-df-spinner');\n",
              "      quickchartButtonEl.classList.add('colab-df-quickchart-complete');\n",
              "    }\n",
              "    (() => {\n",
              "      let quickchartButtonEl =\n",
              "        document.querySelector('#df-51897322-4897-4856-bd43-9cf8a226f0b7 button');\n",
              "      quickchartButtonEl.style.display =\n",
              "        google.colab.kernel.accessAllowed ? 'block' : 'none';\n",
              "    })();\n",
              "  </script>\n",
              "</div>\n",
              "    </div>\n",
              "  </div>\n"
            ]
          },
          "metadata": {},
          "execution_count": 26
        }
      ]
    },
    {
      "cell_type": "markdown",
      "source": [
        "##EDA"
      ],
      "metadata": {
        "id": "6YoOjgvaFDz4"
      }
    },
    {
      "cell_type": "code",
      "source": [
        "sns.set(rc={'figure.figsize':(15, 4)})\n",
        "f, axes = plt.subplots(1, 3)\n",
        "f.suptitle(\"Histogram from Number of Paragraph in News\")\n",
        "f.tight_layout()\n",
        "hist0 = sns.histplot(data=df_train['num_of_paragraphs'], binwidth=1, ax=axes[0]).set(\n",
        "    title='Train Dataset',\n",
        "    xlabel='Number of paragraphs',\n",
        "    ylabel='Number of news',\n",
        "    yscale='log'\n",
        ")\n",
        "hist1 = sns.histplot(data=df_dev['num_of_paragraphs'], binwidth=1, ax=axes[1]).set(\n",
        "    title='Dev Dataset',\n",
        "    xlabel='Number of paragraphs',\n",
        "    ylabel='Number of news',\n",
        "    yscale='log'\n",
        ")\n",
        "hist2 = sns.histplot(data=df_test['num_of_paragraphs'], binwidth=1, ax=axes[2]).set(\n",
        "    title='Test Dataset',\n",
        "    xlabel='Number of paragraphs',\n",
        "    ylabel='Number of news',\n",
        "    yscale='log'\n",
        ")"
      ],
      "metadata": {
        "colab": {
          "base_uri": "https://localhost:8080/",
          "height": 323
        },
        "id": "wH71s1lOFEbe",
        "outputId": "096a08b9-22db-4fe6-d81b-fa10c56b6d7b"
      },
      "execution_count": 27,
      "outputs": [
        {
          "output_type": "display_data",
          "data": {
            "text/plain": [
              "<Figure size 1500x400 with 3 Axes>"
            ],
            "image/png": "[encoded data removed]"
          },
          "metadata": {}
        }
      ]
    },
    {
      "cell_type": "markdown",
      "source": [
        "##Histogram of Summary Lengths"
      ],
      "metadata": {
        "id": "AG60XHTHFOS-"
      }
    },
    {
      "cell_type": "code",
      "source": [
        "sns.set(rc={'figure.figsize':(15, 4)})\n",
        "f, axes = plt.subplots(1, 3)\n",
        "f.suptitle(\"Histogram from Number of Summary Sentences\")\n",
        "f.tight_layout()\n",
        "hist0 = sns.histplot(data=df_train['num_of_summary'], binwidth=1, ax=axes[0]).set(\n",
        "    title='Train Dataset',\n",
        "    xlabel='Number of summary',\n",
        "    ylabel='Number of news',\n",
        "    yscale='log'\n",
        ")\n",
        "hist1 = sns.histplot(data=df_dev['num_of_summary'], binwidth=1, ax=axes[1]).set(\n",
        "    title='Dev Dataset',\n",
        "    xlabel='Number of summary',\n",
        "    ylabel='Number of news',\n",
        "    yscale='log'\n",
        ")\n",
        "hist2 = sns.histplot(data=df_test['num_of_summary'], binwidth=1, ax=axes[2]).set(\n",
        "    title='Test Dataset',\n",
        "    xlabel='Number of summary',\n",
        "    ylabel='Number of news',\n",
        "    yscale='log'\n",
        ")"
      ],
      "metadata": {
        "colab": {
          "base_uri": "https://localhost:8080/",
          "height": 318
        },
        "id": "BJKH7tY2FNuQ",
        "outputId": "e6c556d0-387f-43d3-c55e-bc891edb6bf0"
      },
      "execution_count": 28,
      "outputs": [
        {
          "output_type": "display_data",
          "data": {
            "text/plain": [
              "<Figure size 1500x400 with 3 Axes>"
            ],
            "image/png": "[encoded data removed]"
          },
          "metadata": {}
        }
      ]
    },
    {
      "cell_type": "markdown",
      "source": [
        "##Histogram from Number Characters in News"
      ],
      "metadata": {
        "id": "Bt0DoGjbFWxs"
      }
    },
    {
      "cell_type": "code",
      "source": [
        "df_train['paragraphs_text_len'] = df_train['news_text'].str.len()\n",
        "df_dev['paragraphs_text_len'] = df_dev['news_text'].str.len()\n",
        "df_test['paragraphs_text_len'] = df_test['news_text'].str.len()"
      ],
      "metadata": {
        "id": "IF5Mq_eKFXfT"
      },
      "execution_count": 29,
      "outputs": []
    },
    {
      "cell_type": "code",
      "source": [
        "sns.set(rc={'figure.figsize':(15, 4)})\n",
        "f, axes = plt.subplots(1, 3)\n",
        "f.suptitle(\"Histogram from Number Characters in News\")\n",
        "f.tight_layout()\n",
        "hist0 = sns.histplot(data=df_train['paragraphs_text_len'], bins=20, ax=axes[0]).set(\n",
        "    title='Train Dataset',\n",
        "    xlabel='Number of characters',\n",
        "    ylabel='Number of news',\n",
        "    yscale='log'\n",
        ")\n",
        "hist1 = sns.histplot(data=df_dev['paragraphs_text_len'], bins=20, ax=axes[1]).set(\n",
        "    title='Dev Dataset',\n",
        "    xlabel='Number of characters',\n",
        "    ylabel='Number of news',\n",
        "    yscale='log'\n",
        ")\n",
        "hist2 = sns.histplot(data=df_test['paragraphs_text_len'], bins=20, ax=axes[2]).set(\n",
        "    title='Test Dataset',\n",
        "    xlabel='Number of characters',\n",
        "    ylabel='Number of news',\n",
        "    yscale='log'\n",
        ")"
      ],
      "metadata": {
        "colab": {
          "base_uri": "https://localhost:8080/",
          "height": 323
        },
        "id": "BKhRx6chFTfR",
        "outputId": "bf336c81-1f13-4e27-afee-d3daea44448f"
      },
      "execution_count": 30,
      "outputs": [
        {
          "output_type": "display_data",
          "data": {
            "text/plain": [
              "<Figure size 1500x400 with 3 Axes>"
            ],
            "image/png": "[encoded data removed]"
          },
          "metadata": {}
        }
      ]
    },
    {
      "cell_type": "markdown",
      "source": [
        "##Histogram from Number Characters in Summary"
      ],
      "metadata": {
        "id": "w9jdqk2qFfTA"
      }
    },
    {
      "cell_type": "code",
      "source": [
        "df_train['summary_text_len'] = df_train['summary_text'].str.len()\n",
        "df_dev['summary_text_len'] = df_dev['summary_text'].str.len()\n",
        "df_test['summary_text_len'] = df_test['summary_text'].str.len()"
      ],
      "metadata": {
        "id": "tcZ-tweTFgNG"
      },
      "execution_count": 31,
      "outputs": []
    },
    {
      "cell_type": "code",
      "source": [
        "sns.set(rc={'figure.figsize':(15, 4)})\n",
        "f, axes = plt.subplots(1, 3)\n",
        "f.suptitle(\"Histogram from Number Characters in Summary\")\n",
        "f.tight_layout()\n",
        "hist0 = sns.histplot(data=df_train['summary_text_len'], bins=20, ax=axes[0]).set(\n",
        "    title='Train Dataset',\n",
        "    xlabel='Number of characters',\n",
        "    ylabel='Number of news',\n",
        "    yscale='log'\n",
        ")\n",
        "hist1 = sns.histplot(data=df_dev['summary_text_len'], bins=20, ax=axes[1]).set(\n",
        "    title='Dev Dataset',\n",
        "    xlabel='Number of characters',\n",
        "    ylabel='Number of news',\n",
        "    yscale='log'\n",
        ")\n",
        "hist2 = sns.histplot(data=df_test['summary_text_len'], bins=20, ax=axes[2]).set(\n",
        "    title='Test Dataset',\n",
        "    xlabel='Number of characters',\n",
        "    ylabel='Number of news',\n",
        "    yscale='log'\n",
        ")"
      ],
      "metadata": {
        "colab": {
          "base_uri": "https://localhost:8080/",
          "height": 323
        },
        "id": "0LMRkGa_FjEM",
        "outputId": "26aff69d-c460-48b7-832a-f57a7363c803"
      },
      "execution_count": 32,
      "outputs": [
        {
          "output_type": "display_data",
          "data": {
            "text/plain": [
              "<Figure size 1500x400 with 3 Axes>"
            ],
            "image/png": "[encoded data removed]"
          },
          "metadata": {}
        }
      ]
    },
    {
      "cell_type": "markdown",
      "source": [
        "#Machine Learning Text Summarization"
      ],
      "metadata": {
        "id": "1WOeknyvF_rr"
      }
    },
    {
      "cell_type": "code",
      "source": [
        "!pip install transformers\n",
        "!pip install sentencepiece"
      ],
      "metadata": {
        "colab": {
          "base_uri": "https://localhost:8080/"
        },
        "id": "b7320cjDGhJx",
        "outputId": "cd5d69de-23b9-41b1-a57c-df70ee0950fb"
      },
      "execution_count": 1,
      "outputs": [
        {
          "output_type": "stream",
          "name": "stdout",
          "text": [
            "Requirement already satisfied: transformers in /usr/local/lib/python3.10/dist-packages (4.35.2)\n",
            "Requirement already satisfied: filelock in /usr/local/lib/python3.10/dist-packages (from transformers) (3.13.1)\n",
            "Requirement already satisfied: huggingface-hub<1.0,>=0.16.4 in /usr/local/lib/python3.10/dist-packages (from transformers) (0.19.4)\n",
            "Requirement already satisfied: numpy>=1.17 in /usr/local/lib/python3.10/dist-packages (from transformers) (1.23.5)\n",
            "Requirement already satisfied: packaging>=20.0 in /usr/local/lib/python3.10/dist-packages (from transformers) (23.2)\n",
            "Requirement already satisfied: pyyaml>=5.1 in /usr/local/lib/python3.10/dist-packages (from transformers) (6.0.1)\n",
            "Requirement already satisfied: regex!=2019.12.17 in /usr/local/lib/python3.10/dist-packages (from transformers) (2023.6.3)\n",
            "Requirement already satisfied: requests in /usr/local/lib/python3.10/dist-packages (from transformers) (2.31.0)\n",
            "Requirement already satisfied: tokenizers<0.19,>=0.14 in /usr/local/lib/python3.10/dist-packages (from transformers) (0.15.0)\n",
            "Requirement already satisfied: safetensors>=0.3.1 in /usr/local/lib/python3.10/dist-packages (from transformers) (0.4.0)\n",
            "Requirement already satisfied: tqdm>=4.27 in /usr/local/lib/python3.10/dist-packages (from transformers) (4.66.1)\n",
            "Requirement already satisfied: fsspec>=2023.5.0 in /usr/local/lib/python3.10/dist-packages (from huggingface-hub<1.0,>=0.16.4->transformers) (2023.6.0)\n",
            "Requirement already satisfied: typing-extensions>=3.7.4.3 in /usr/local/lib/python3.10/dist-packages (from huggingface-hub<1.0,>=0.16.4->transformers) (4.5.0)\n",
            "Requirement already satisfied: charset-normalizer<4,>=2 in /usr/local/lib/python3.10/dist-packages (from requests->transformers) (3.3.2)\n",
            "Requirement already satisfied: idna<4,>=2.5 in /usr/local/lib/python3.10/dist-packages (from requests->transformers) (3.4)\n",
            "Requirement already satisfied: urllib3<3,>=1.21.1 in /usr/local/lib/python3.10/dist-packages (from requests->transformers) (2.0.7)\n",
            "Requirement already satisfied: certifi>=2017.4.17 in /usr/local/lib/python3.10/dist-packages (from requests->transformers) (2023.7.22)\n",
            "Requirement already satisfied: sentencepiece in /usr/local/lib/python3.10/dist-packages (0.1.99)\n"
          ]
        }
      ]
    },
    {
      "cell_type": "code",
      "source": [
        "from transformers import T5Tokenizer, T5Model, T5ForConditionalGeneration\n",
        "\n",
        "t5_tokenizer = T5Tokenizer.from_pretrained(\"panggi/t5-base-indonesian-summarization-cased\")\n",
        "t5_model = T5ForConditionalGeneration.from_pretrained(\"panggi/t5-base-indonesian-summarization-cased\")"
      ],
      "metadata": {
        "colab": {
          "base_uri": "https://localhost:8080/"
        },
        "id": "Zw7rjsf9Ia8a",
        "outputId": "235d276c-9ec6-495d-d209-fe901b694bf5"
      },
      "execution_count": 2,
      "outputs": [
        {
          "output_type": "stream",
          "name": "stderr",
          "text": [
            "You are using the default legacy behaviour of the <class 'transformers.models.t5.tokenization_t5.T5Tokenizer'>. This is expected, and simply means that the `legacy` (previous) behavior will be used so nothing changes for you. If you want to use the new behaviour, set `legacy=False`. This should only be set if you understand what it means, and thouroughly read the reason why this was added as explained in https://github.com/huggingface/transformers/pull/24565\n"
          ]
        }
      ]
    },
    {
      "cell_type": "code",
      "source": [
        "import torch"
      ],
      "metadata": {
        "id": "OA1O9S0yKK1_"
      },
      "execution_count": 33,
      "outputs": []
    },
    {
      "cell_type": "code",
      "source": [
        "device = torch.device(\"cuda\" if torch.cuda.is_available() else \"cpu\")\n",
        "print(\"device \", device)\n",
        "t5_model = t5_model.to(device)"
      ],
      "metadata": {
        "colab": {
          "base_uri": "https://localhost:8080/"
        },
        "id": "xLXm10xaIu87",
        "outputId": "79dcaf2b-b7e2-4bb6-d46d-2f283a55daba"
      },
      "execution_count": 34,
      "outputs": [
        {
          "output_type": "stream",
          "name": "stdout",
          "text": [
            "device  cpu\n"
          ]
        }
      ]
    },
    {
      "cell_type": "code",
      "source": [
        "def generate_summary(article, max_length, tokenizer, model):\n",
        "    input_ids = tokenizer.encode(article, return_tensors='pt')\n",
        "    input_ids = input_ids.to(device)\n",
        "    summary_ids = model.generate(input_ids,\n",
        "                max_length=max_length,\n",
        "                num_beams=2,\n",
        "                repetition_penalty=2.5,\n",
        "                length_penalty=1.0,\n",
        "                early_stopping=True,\n",
        "                no_repeat_ngram_size=2,\n",
        "                use_cache=True)\n",
        "    summary_text = tokenizer.decode(summary_ids[0], skip_special_tokens=True)\n",
        "    return summary_text"
      ],
      "metadata": {
        "id": "e3OhHpfqJ2Dg"
      },
      "execution_count": 35,
      "outputs": []
    },
    {
      "cell_type": "code",
      "source": [
        "# summary max length\n",
        "max_length = df_test['summary_text'].str.len().max()\n",
        "max_length"
      ],
      "metadata": {
        "colab": {
          "base_uri": "https://localhost:8080/"
        },
        "id": "nZEuUHHsJ4WJ",
        "outputId": "7d7bdd6d-47f8-4b68-cc8f-3f4712efdfbe"
      },
      "execution_count": 36,
      "outputs": [
        {
          "output_type": "execute_result",
          "data": {
            "text/plain": [
              "619"
            ]
          },
          "metadata": {},
          "execution_count": 36
        }
      ]
    },
    {
      "cell_type": "code",
      "source": [
        "summary_generated = []\n",
        "# counter = 0\n",
        "# for i, row in tqdm(df_test[['id', 'news_text']].iterrows(), total=df_test.shape[0]):\n",
        "for i, row in tqdm(df_test[['id', 'news_text']].head(10).iterrows(), total=10):\n",
        "    sg = generate_summary(row['news_text'], max_length, t5_tokenizer, t5_model)\n",
        "    summary_generated.append([row['id'], sg])\n",
        "\n",
        "#     # limiter, for checking only\n",
        "#     counter += 1\n",
        "#     if counter == 10:\n",
        "#         break"
      ],
      "metadata": {
        "colab": {
          "base_uri": "https://localhost:8080/"
        },
        "id": "20QfLvTmJ7Ya",
        "outputId": "a4d21b3c-4cb0-441c-8d02-d9ebb424b376"
      },
      "execution_count": 38,
      "outputs": [
        {
          "output_type": "stream",
          "name": "stderr",
          "text": [
            "100%|██████████| 10/10 [02:16<00:00, 13.65s/it]\n"
          ]
        }
      ]
    },
    {
      "cell_type": "code",
      "source": [
        "df_summary_generated = pd.DataFrame(summary_generated)\n",
        "df_summary_generated = df_summary_generated.rename(columns={0:'id', 1: 'summary_generated'})\n",
        "used_id = df_summary_generated['id'].values\n",
        "df_summary_generated.head()"
      ],
      "metadata": {
        "colab": {
          "base_uri": "https://localhost:8080/",
          "height": 206
        },
        "id": "PRImQ8lRKV4V",
        "outputId": "2dd1148d-cfff-45d7-ad3f-e4a62c855433"
      },
      "execution_count": 39,
      "outputs": [
        {
          "output_type": "execute_result",
          "data": {
            "text/plain": [
              "                                                  id  \\\n",
              "0  1504151262-wiranto-yakin-uang-bos-first-travel...   \n",
              "1  1514888989-malaysian-masters-2018-bakal-diikut...   \n",
              "2  1495703700-potensi-kotoran-sapi-rp-643-triliun...   \n",
              "3  1501628400-aktor-intelektual-kasus-novel-untou...   \n",
              "4  1513599137-warga-terdampak-nyia-diimbau-tidak-...   \n",
              "\n",
              "                                   summary_generated  \n",
              "0  Menteri Koordinator bidang Politik, Hukum, dan...  \n",
              "1  Turnamen Malaysia Masters 2018 yang akan berla...  \n",
              "2  Fakultas Peternakan UGM memprediksi potensi ek...  \n",
              "3  Eks Staf Khusus Presiden Bidang Hukum, Denny I...  \n",
              "4  Pemerintah Kabupaten Kulon Progo, Daerah Istim...  "
            ],
            "text/html": [
              "\n",
              "  <div id=\"df-28501376-2008-4f1c-9023-80aa66a016ba\" class=\"colab-df-container\">\n",
              "    <div>\n",
              "<style scoped>\n",
              "    .dataframe tbody tr th:only-of-type {\n",
              "        vertical-align: middle;\n",
              "    }\n",
              "\n",
              "    .dataframe tbody tr th {\n",
              "        vertical-align: top;\n",
              "    }\n",
              "\n",
              "    .dataframe thead th {\n",
              "        text-align: right;\n",
              "    }\n",
              "</style>\n",
              "<table border=\"1\" class=\"dataframe\">\n",
              "  <thead>\n",
              "    <tr style=\"text-align: right;\">\n",
              "      <th></th>\n",
              "      <th>id</th>\n",
              "      <th>summary_generated</th>\n",
              "    </tr>\n",
              "  </thead>\n",
              "  <tbody>\n",
              "    <tr>\n",
              "      <th>0</th>\n",
              "      <td>1504151262-wiranto-yakin-uang-bos-first-travel...</td>\n",
              "      <td>Menteri Koordinator bidang Politik, Hukum, dan...</td>\n",
              "    </tr>\n",
              "    <tr>\n",
              "      <th>1</th>\n",
              "      <td>1514888989-malaysian-masters-2018-bakal-diikut...</td>\n",
              "      <td>Turnamen Malaysia Masters 2018 yang akan berla...</td>\n",
              "    </tr>\n",
              "    <tr>\n",
              "      <th>2</th>\n",
              "      <td>1495703700-potensi-kotoran-sapi-rp-643-triliun...</td>\n",
              "      <td>Fakultas Peternakan UGM memprediksi potensi ek...</td>\n",
              "    </tr>\n",
              "    <tr>\n",
              "      <th>3</th>\n",
              "      <td>1501628400-aktor-intelektual-kasus-novel-untou...</td>\n",
              "      <td>Eks Staf Khusus Presiden Bidang Hukum, Denny I...</td>\n",
              "    </tr>\n",
              "    <tr>\n",
              "      <th>4</th>\n",
              "      <td>1513599137-warga-terdampak-nyia-diimbau-tidak-...</td>\n",
              "      <td>Pemerintah Kabupaten Kulon Progo, Daerah Istim...</td>\n",
              "    </tr>\n",
              "  </tbody>\n",
              "</table>\n",
              "</div>\n",
              "    <div class=\"colab-df-buttons\">\n",
              "\n",
              "  <div class=\"colab-df-container\">\n",
              "    <button class=\"colab-df-convert\" onclick=\"convertToInteractive('df-28501376-2008-4f1c-9023-80aa66a016ba')\"\n",
              "            title=\"Convert this dataframe to an interactive table.\"\n",
              "            style=\"display:none;\">\n",
              "\n",
              "  <svg xmlns=\"http://www.w3.org/2000/svg\" height=\"24px\" viewBox=\"0 -960 960 960\">\n",
              "    <path d=\"M120-120v-720h720v720H120Zm60-500h600v-160H180v160Zm220 220h160v-160H400v160Zm0 220h160v-160H400v160ZM180-400h160v-160H180v160Zm440 0h160v-160H620v160ZM180-180h160v-160H180v160Zm440 0h160v-160H620v160Z\"/>\n",
              "  </svg>\n",
              "    </button>\n",
              "\n",
              "  <style>\n",
              "    .colab-df-container {\n",
              "      display:flex;\n",
              "      gap: 12px;\n",
              "    }\n",
              "\n",
              "    .colab-df-convert {\n",
              "      background-color: #E8F0FE;\n",
              "      border: none;\n",
              "      border-radius: 50%;\n",
              "      cursor: pointer;\n",
              "      display: none;\n",
              "      fill: #1967D2;\n",
              "      height: 32px;\n",
              "      padding: 0 0 0 0;\n",
              "      width: 32px;\n",
              "    }\n",
              "\n",
              "    .colab-df-convert:hover {\n",
              "      background-color: #E2EBFA;\n",
              "      box-shadow: 0px 1px 2px rgba(60, 64, 67, 0.3), 0px 1px 3px 1px rgba(60, 64, 67, 0.15);\n",
              "      fill: #174EA6;\n",
              "    }\n",
              "\n",
              "    .colab-df-buttons div {\n",
              "      margin-bottom: 4px;\n",
              "    }\n",
              "\n",
              "    [theme=dark] .colab-df-convert {\n",
              "      background-color: #3B4455;\n",
              "      fill: #D2E3FC;\n",
              "    }\n",
              "\n",
              "    [theme=dark] .colab-df-convert:hover {\n",
              "      background-color: #434B5C;\n",
              "      box-shadow: 0px 1px 3px 1px rgba(0, 0, 0, 0.15);\n",
              "      filter: drop-shadow(0px 1px 2px rgba(0, 0, 0, 0.3));\n",
              "      fill: #FFFFFF;\n",
              "    }\n",
              "  </style>\n",
              "\n",
              "    <script>\n",
              "      const buttonEl =\n",
              "        document.querySelector('#df-28501376-2008-4f1c-9023-80aa66a016ba button.colab-df-convert');\n",
              "      buttonEl.style.display =\n",
              "        google.colab.kernel.accessAllowed ? 'block' : 'none';\n",
              "\n",
              "      async function convertToInteractive(key) {\n",
              "        const element = document.querySelector('#df-28501376-2008-4f1c-9023-80aa66a016ba');\n",
              "        const dataTable =\n",
              "          await google.colab.kernel.invokeFunction('convertToInteractive',\n",
              "                                                    [key], {});\n",
              "        if (!dataTable) return;\n",
              "\n",
              "        const docLinkHtml = 'Like what you see? Visit the ' +\n",
              "          '<a target=\"_blank\" href=https://colab.research.google.com/notebooks/data_table.ipynb>data table notebook</a>'\n",
              "          + ' to learn more about interactive tables.';\n",
              "        element.innerHTML = '';\n",
              "        dataTable['output_type'] = 'display_data';\n",
              "        await google.colab.output.renderOutput(dataTable, element);\n",
              "        const docLink = document.createElement('div');\n",
              "        docLink.innerHTML = docLinkHtml;\n",
              "        element.appendChild(docLink);\n",
              "      }\n",
              "    </script>\n",
              "  </div>\n",
              "\n",
              "\n",
              "<div id=\"df-cb107577-6d90-425f-b042-cf1aeca02f9a\">\n",
              "  <button class=\"colab-df-quickchart\" onclick=\"quickchart('df-cb107577-6d90-425f-b042-cf1aeca02f9a')\"\n",
              "            title=\"Suggest charts\"\n",
              "            style=\"display:none;\">\n",
              "\n",
              "<svg xmlns=\"http://www.w3.org/2000/svg\" height=\"24px\"viewBox=\"0 0 24 24\"\n",
              "     width=\"24px\">\n",
              "    <g>\n",
              "        <path d=\"M19 3H5c-1.1 0-2 .9-2 2v14c0 1.1.9 2 2 2h14c1.1 0 2-.9 2-2V5c0-1.1-.9-2-2-2zM9 17H7v-7h2v7zm4 0h-2V7h2v10zm4 0h-2v-4h2v4z\"/>\n",
              "    </g>\n",
              "</svg>\n",
              "  </button>\n",
              "\n",
              "<style>\n",
              "  .colab-df-quickchart {\n",
              "      --bg-color: #E8F0FE;\n",
              "      --fill-color: #1967D2;\n",
              "      --hover-bg-color: #E2EBFA;\n",
              "      --hover-fill-color: #174EA6;\n",
              "      --disabled-fill-color: #AAA;\n",
              "      --disabled-bg-color: #DDD;\n",
              "  }\n",
              "\n",
              "  [theme=dark] .colab-df-quickchart {\n",
              "      --bg-color: #3B4455;\n",
              "      --fill-color: #D2E3FC;\n",
              "      --hover-bg-color: #434B5C;\n",
              "      --hover-fill-color: #FFFFFF;\n",
              "      --disabled-bg-color: #3B4455;\n",
              "      --disabled-fill-color: #666;\n",
              "  }\n",
              "\n",
              "  .colab-df-quickchart {\n",
              "    background-color: var(--bg-color);\n",
              "    border: none;\n",
              "    border-radius: 50%;\n",
              "    cursor: pointer;\n",
              "    display: none;\n",
              "    fill: var(--fill-color);\n",
              "    height: 32px;\n",
              "    padding: 0;\n",
              "    width: 32px;\n",
              "  }\n",
              "\n",
              "  .colab-df-quickchart:hover {\n",
              "    background-color: var(--hover-bg-color);\n",
              "    box-shadow: 0 1px 2px rgba(60, 64, 67, 0.3), 0 1px 3px 1px rgba(60, 64, 67, 0.15);\n",
              "    fill: var(--button-hover-fill-color);\n",
              "  }\n",
              "\n",
              "  .colab-df-quickchart-complete:disabled,\n",
              "  .colab-df-quickchart-complete:disabled:hover {\n",
              "    background-color: var(--disabled-bg-color);\n",
              "    fill: var(--disabled-fill-color);\n",
              "    box-shadow: none;\n",
              "  }\n",
              "\n",
              "  .colab-df-spinner {\n",
              "    border: 2px solid var(--fill-color);\n",
              "    border-color: transparent;\n",
              "    border-bottom-color: var(--fill-color);\n",
              "    animation:\n",
              "      spin 1s steps(1) infinite;\n",
              "  }\n",
              "\n",
              "  @keyframes spin {\n",
              "    0% {\n",
              "      border-color: transparent;\n",
              "      border-bottom-color: var(--fill-color);\n",
              "      border-left-color: var(--fill-color);\n",
              "    }\n",
              "    20% {\n",
              "      border-color: transparent;\n",
              "      border-left-color: var(--fill-color);\n",
              "      border-top-color: var(--fill-color);\n",
              "    }\n",
              "    30% {\n",
              "      border-color: transparent;\n",
              "      border-left-color: var(--fill-color);\n",
              "      border-top-color: var(--fill-color);\n",
              "      border-right-color: var(--fill-color);\n",
              "    }\n",
              "    40% {\n",
              "      border-color: transparent;\n",
              "      border-right-color: var(--fill-color);\n",
              "      border-top-color: var(--fill-color);\n",
              "    }\n",
              "    60% {\n",
              "      border-color: transparent;\n",
              "      border-right-color: var(--fill-color);\n",
              "    }\n",
              "    80% {\n",
              "      border-color: transparent;\n",
              "      border-right-color: var(--fill-color);\n",
              "      border-bottom-color: var(--fill-color);\n",
              "    }\n",
              "    90% {\n",
              "      border-color: transparent;\n",
              "      border-bottom-color: var(--fill-color);\n",
              "    }\n",
              "  }\n",
              "</style>\n",
              "\n",
              "  <script>\n",
              "    async function quickchart(key) {\n",
              "      const quickchartButtonEl =\n",
              "        document.querySelector('#' + key + ' button');\n",
              "      quickchartButtonEl.disabled = true;  // To prevent multiple clicks.\n",
              "      quickchartButtonEl.classList.add('colab-df-spinner');\n",
              "      try {\n",
              "        const charts = await google.colab.kernel.invokeFunction(\n",
              "            'suggestCharts', [key], {});\n",
              "      } catch (error) {\n",
              "        console.error('Error during call to suggestCharts:', error);\n",
              "      }\n",
              "      quickchartButtonEl.classList.remove('colab-df-spinner');\n",
              "      quickchartButtonEl.classList.add('colab-df-quickchart-complete');\n",
              "    }\n",
              "    (() => {\n",
              "      let quickchartButtonEl =\n",
              "        document.querySelector('#df-cb107577-6d90-425f-b042-cf1aeca02f9a button');\n",
              "      quickchartButtonEl.style.display =\n",
              "        google.colab.kernel.accessAllowed ? 'block' : 'none';\n",
              "    })();\n",
              "  </script>\n",
              "</div>\n",
              "    </div>\n",
              "  </div>\n"
            ]
          },
          "metadata": {},
          "execution_count": 39
        }
      ]
    },
    {
      "cell_type": "code",
      "source": [
        "df_test_result = df_test.merge(df_summary_generated, on='id')\n",
        "df_test_result.head()"
      ],
      "metadata": {
        "colab": {
          "base_uri": "https://localhost:8080/",
          "height": 643
        },
        "id": "DwDzTV8wKXzi",
        "outputId": "14228d33-c073-4142-a5a1-61091e5d2514"
      },
      "execution_count": 40,
      "outputs": [
        {
          "output_type": "execute_result",
          "data": {
            "text/plain": [
              "      category                                        gold_labels  \\\n",
              "0  tajuk utama  {\"0\": [true], \"1\": [false, false, false], \"2\":...   \n",
              "1     olahraga  {\"0\": [true], \"1\": [true], \"2\": [false], \"3\": ...   \n",
              "2  tajuk utama  {\"0\": [true], \"1\": [true, true], \"2\": [false],...   \n",
              "3  tajuk utama  {\"0\": [false], \"1\": [false, false], \"2\": [true...   \n",
              "4  tajuk utama  {\"0\": [true], \"1\": [false, false], \"2\": [true]...   \n",
              "\n",
              "                                                  id  \\\n",
              "0  1504151262-wiranto-yakin-uang-bos-first-travel...   \n",
              "1  1514888989-malaysian-masters-2018-bakal-diikut...   \n",
              "2  1495703700-potensi-kotoran-sapi-rp-643-triliun...   \n",
              "3  1501628400-aktor-intelektual-kasus-novel-untou...   \n",
              "4  1513599137-warga-terdampak-nyia-diimbau-tidak-...   \n",
              "\n",
              "                                          paragraphs         source  \\\n",
              "0  {\"0\": [\"Jakarta , CNN Indonesia - - Menteri Ko...  cnn indonesia   \n",
              "1  {\"0\": [\"JUARA.NET - Turnamen Malaysia Masters ...      juara.net   \n",
              "2  {\"0\": [\"Rimanews \\u2013 Fakultas Peternakan ( ...       rimanews   \n",
              "3  {\"0\": [\"Jakarta , CNN Indonesia - - Eks Staf K...  cnn indonesia   \n",
              "4  {\"0\": [\"Kulon Progo ( ANTARA News ) - Pemerint...     antaranews   \n",
              "\n",
              "                                          source_url  \\\n",
              "0  https://www.cnnindonesia.com/nasional/20170830...   \n",
              "1  https://juara.bolasport.com/read/raket/bulu-ta...   \n",
              "2  http://rimanews.com/ekonomi/bisnis/read/201705...   \n",
              "3  https://www.cnnindonesia.com/nasional/20170801...   \n",
              "4  https://www.antaranews.com/berita/671698/warga...   \n",
              "\n",
              "                                             summary  \\\n",
              "0  {\"0\": \"Menteri Koordinator bidang Politik , Hu...   \n",
              "1  {\"0\": \"Turnamen Malaysia Masters 2018 yang aka...   \n",
              "2  {\"0\": \"Fakultas Peternakan ( Fapet ) UGM mempr...   \n",
              "3  {\"0\": \"Menurut Denny Eks Staf Khusus Presiden ...   \n",
              "4  {\"0\": \"Pemerintah Kabupaten Kulon Progo , Daer...   \n",
              "\n",
              "                                           news_text  num_of_paragraphs  \\\n",
              "0  Jakarta , CNN Indonesia - - Menteri Koordinato...                 13   \n",
              "1  JUARA.NET - Turnamen Malaysia Masters 2018 yan...                  7   \n",
              "2  Rimanews – Fakultas Peternakan ( Fapet ) Unive...                 14   \n",
              "3  Jakarta , CNN Indonesia - - Eks Staf Khusus Pr...                  9   \n",
              "4  Kulon Progo ( ANTARA News ) - Pemerintah Kabup...                 10   \n",
              "\n",
              "                                        summary_text  num_of_summary  \\\n",
              "0  Menteri Koordinator bidang Politik , Hukum , d...               3   \n",
              "1  Turnamen Malaysia Masters 2018 yang akan berla...               2   \n",
              "2  Fakultas Peternakan ( Fapet ) UGM memprediksi ...               3   \n",
              "3  Menurut Denny Eks Staf Khusus Presiden Bidang ...               4   \n",
              "4  Pemerintah Kabupaten Kulon Progo , Daerah Isti...               3   \n",
              "\n",
              "   paragraphs_text_len  summary_text_len  \\\n",
              "0                 2394               438   \n",
              "1                 1399               424   \n",
              "2                 3828               440   \n",
              "3                 2022               465   \n",
              "4                 2064               458   \n",
              "\n",
              "                                   summary_generated  \n",
              "0  Menteri Koordinator bidang Politik, Hukum, dan...  \n",
              "1  Turnamen Malaysia Masters 2018 yang akan berla...  \n",
              "2  Fakultas Peternakan UGM memprediksi potensi ek...  \n",
              "3  Eks Staf Khusus Presiden Bidang Hukum, Denny I...  \n",
              "4  Pemerintah Kabupaten Kulon Progo, Daerah Istim...  "
            ],
            "text/html": [
              "\n",
              "  <div id=\"df-94f65263-1f4b-4996-a865-7e9dab959936\" class=\"colab-df-container\">\n",
              "    <div>\n",
              "<style scoped>\n",
              "    .dataframe tbody tr th:only-of-type {\n",
              "        vertical-align: middle;\n",
              "    }\n",
              "\n",
              "    .dataframe tbody tr th {\n",
              "        vertical-align: top;\n",
              "    }\n",
              "\n",
              "    .dataframe thead th {\n",
              "        text-align: right;\n",
              "    }\n",
              "</style>\n",
              "<table border=\"1\" class=\"dataframe\">\n",
              "  <thead>\n",
              "    <tr style=\"text-align: right;\">\n",
              "      <th></th>\n",
              "      <th>category</th>\n",
              "      <th>gold_labels</th>\n",
              "      <th>id</th>\n",
              "      <th>paragraphs</th>\n",
              "      <th>source</th>\n",
              "      <th>source_url</th>\n",
              "      <th>summary</th>\n",
              "      <th>news_text</th>\n",
              "      <th>num_of_paragraphs</th>\n",
              "      <th>summary_text</th>\n",
              "      <th>num_of_summary</th>\n",
              "      <th>paragraphs_text_len</th>\n",
              "      <th>summary_text_len</th>\n",
              "      <th>summary_generated</th>\n",
              "    </tr>\n",
              "  </thead>\n",
              "  <tbody>\n",
              "    <tr>\n",
              "      <th>0</th>\n",
              "      <td>tajuk utama</td>\n",
              "      <td>{\"0\": [true], \"1\": [false, false, false], \"2\":...</td>\n",
              "      <td>1504151262-wiranto-yakin-uang-bos-first-travel...</td>\n",
              "      <td>{\"0\": [\"Jakarta , CNN Indonesia - - Menteri Ko...</td>\n",
              "      <td>cnn indonesia</td>\n",
              "      <td>https://www.cnnindonesia.com/nasional/20170830...</td>\n",
              "      <td>{\"0\": \"Menteri Koordinator bidang Politik , Hu...</td>\n",
              "      <td>Jakarta , CNN Indonesia - - Menteri Koordinato...</td>\n",
              "      <td>13</td>\n",
              "      <td>Menteri Koordinator bidang Politik , Hukum , d...</td>\n",
              "      <td>3</td>\n",
              "      <td>2394</td>\n",
              "      <td>438</td>\n",
              "      <td>Menteri Koordinator bidang Politik, Hukum, dan...</td>\n",
              "    </tr>\n",
              "    <tr>\n",
              "      <th>1</th>\n",
              "      <td>olahraga</td>\n",
              "      <td>{\"0\": [true], \"1\": [true], \"2\": [false], \"3\": ...</td>\n",
              "      <td>1514888989-malaysian-masters-2018-bakal-diikut...</td>\n",
              "      <td>{\"0\": [\"JUARA.NET - Turnamen Malaysia Masters ...</td>\n",
              "      <td>juara.net</td>\n",
              "      <td>https://juara.bolasport.com/read/raket/bulu-ta...</td>\n",
              "      <td>{\"0\": \"Turnamen Malaysia Masters 2018 yang aka...</td>\n",
              "      <td>JUARA.NET - Turnamen Malaysia Masters 2018 yan...</td>\n",
              "      <td>7</td>\n",
              "      <td>Turnamen Malaysia Masters 2018 yang akan berla...</td>\n",
              "      <td>2</td>\n",
              "      <td>1399</td>\n",
              "      <td>424</td>\n",
              "      <td>Turnamen Malaysia Masters 2018 yang akan berla...</td>\n",
              "    </tr>\n",
              "    <tr>\n",
              "      <th>2</th>\n",
              "      <td>tajuk utama</td>\n",
              "      <td>{\"0\": [true], \"1\": [true, true], \"2\": [false],...</td>\n",
              "      <td>1495703700-potensi-kotoran-sapi-rp-643-triliun...</td>\n",
              "      <td>{\"0\": [\"Rimanews \\u2013 Fakultas Peternakan ( ...</td>\n",
              "      <td>rimanews</td>\n",
              "      <td>http://rimanews.com/ekonomi/bisnis/read/201705...</td>\n",
              "      <td>{\"0\": \"Fakultas Peternakan ( Fapet ) UGM mempr...</td>\n",
              "      <td>Rimanews – Fakultas Peternakan ( Fapet ) Unive...</td>\n",
              "      <td>14</td>\n",
              "      <td>Fakultas Peternakan ( Fapet ) UGM memprediksi ...</td>\n",
              "      <td>3</td>\n",
              "      <td>3828</td>\n",
              "      <td>440</td>\n",
              "      <td>Fakultas Peternakan UGM memprediksi potensi ek...</td>\n",
              "    </tr>\n",
              "    <tr>\n",
              "      <th>3</th>\n",
              "      <td>tajuk utama</td>\n",
              "      <td>{\"0\": [false], \"1\": [false, false], \"2\": [true...</td>\n",
              "      <td>1501628400-aktor-intelektual-kasus-novel-untou...</td>\n",
              "      <td>{\"0\": [\"Jakarta , CNN Indonesia - - Eks Staf K...</td>\n",
              "      <td>cnn indonesia</td>\n",
              "      <td>https://www.cnnindonesia.com/nasional/20170801...</td>\n",
              "      <td>{\"0\": \"Menurut Denny Eks Staf Khusus Presiden ...</td>\n",
              "      <td>Jakarta , CNN Indonesia - - Eks Staf Khusus Pr...</td>\n",
              "      <td>9</td>\n",
              "      <td>Menurut Denny Eks Staf Khusus Presiden Bidang ...</td>\n",
              "      <td>4</td>\n",
              "      <td>2022</td>\n",
              "      <td>465</td>\n",
              "      <td>Eks Staf Khusus Presiden Bidang Hukum, Denny I...</td>\n",
              "    </tr>\n",
              "    <tr>\n",
              "      <th>4</th>\n",
              "      <td>tajuk utama</td>\n",
              "      <td>{\"0\": [true], \"1\": [false, false], \"2\": [true]...</td>\n",
              "      <td>1513599137-warga-terdampak-nyia-diimbau-tidak-...</td>\n",
              "      <td>{\"0\": [\"Kulon Progo ( ANTARA News ) - Pemerint...</td>\n",
              "      <td>antaranews</td>\n",
              "      <td>https://www.antaranews.com/berita/671698/warga...</td>\n",
              "      <td>{\"0\": \"Pemerintah Kabupaten Kulon Progo , Daer...</td>\n",
              "      <td>Kulon Progo ( ANTARA News ) - Pemerintah Kabup...</td>\n",
              "      <td>10</td>\n",
              "      <td>Pemerintah Kabupaten Kulon Progo , Daerah Isti...</td>\n",
              "      <td>3</td>\n",
              "      <td>2064</td>\n",
              "      <td>458</td>\n",
              "      <td>Pemerintah Kabupaten Kulon Progo, Daerah Istim...</td>\n",
              "    </tr>\n",
              "  </tbody>\n",
              "</table>\n",
              "</div>\n",
              "    <div class=\"colab-df-buttons\">\n",
              "\n",
              "  <div class=\"colab-df-container\">\n",
              "    <button class=\"colab-df-convert\" onclick=\"convertToInteractive('df-94f65263-1f4b-4996-a865-7e9dab959936')\"\n",
              "            title=\"Convert this dataframe to an interactive table.\"\n",
              "            style=\"display:none;\">\n",
              "\n",
              "  <svg xmlns=\"http://www.w3.org/2000/svg\" height=\"24px\" viewBox=\"0 -960 960 960\">\n",
              "    <path d=\"M120-120v-720h720v720H120Zm60-500h600v-160H180v160Zm220 220h160v-160H400v160Zm0 220h160v-160H400v160ZM180-400h160v-160H180v160Zm440 0h160v-160H620v160ZM180-180h160v-160H180v160Zm440 0h160v-160H620v160Z\"/>\n",
              "  </svg>\n",
              "    </button>\n",
              "\n",
              "  <style>\n",
              "    .colab-df-container {\n",
              "      display:flex;\n",
              "      gap: 12px;\n",
              "    }\n",
              "\n",
              "    .colab-df-convert {\n",
              "      background-color: #E8F0FE;\n",
              "      border: none;\n",
              "      border-radius: 50%;\n",
              "      cursor: pointer;\n",
              "      display: none;\n",
              "      fill: #1967D2;\n",
              "      height: 32px;\n",
              "      padding: 0 0 0 0;\n",
              "      width: 32px;\n",
              "    }\n",
              "\n",
              "    .colab-df-convert:hover {\n",
              "      background-color: #E2EBFA;\n",
              "      box-shadow: 0px 1px 2px rgba(60, 64, 67, 0.3), 0px 1px 3px 1px rgba(60, 64, 67, 0.15);\n",
              "      fill: #174EA6;\n",
              "    }\n",
              "\n",
              "    .colab-df-buttons div {\n",
              "      margin-bottom: 4px;\n",
              "    }\n",
              "\n",
              "    [theme=dark] .colab-df-convert {\n",
              "      background-color: #3B4455;\n",
              "      fill: #D2E3FC;\n",
              "    }\n",
              "\n",
              "    [theme=dark] .colab-df-convert:hover {\n",
              "      background-color: #434B5C;\n",
              "      box-shadow: 0px 1px 3px 1px rgba(0, 0, 0, 0.15);\n",
              "      filter: drop-shadow(0px 1px 2px rgba(0, 0, 0, 0.3));\n",
              "      fill: #FFFFFF;\n",
              "    }\n",
              "  </style>\n",
              "\n",
              "    <script>\n",
              "      const buttonEl =\n",
              "        document.querySelector('#df-94f65263-1f4b-4996-a865-7e9dab959936 button.colab-df-convert');\n",
              "      buttonEl.style.display =\n",
              "        google.colab.kernel.accessAllowed ? 'block' : 'none';\n",
              "\n",
              "      async function convertToInteractive(key) {\n",
              "        const element = document.querySelector('#df-94f65263-1f4b-4996-a865-7e9dab959936');\n",
              "        const dataTable =\n",
              "          await google.colab.kernel.invokeFunction('convertToInteractive',\n",
              "                                                    [key], {});\n",
              "        if (!dataTable) return;\n",
              "\n",
              "        const docLinkHtml = 'Like what you see? Visit the ' +\n",
              "          '<a target=\"_blank\" href=https://colab.research.google.com/notebooks/data_table.ipynb>data table notebook</a>'\n",
              "          + ' to learn more about interactive tables.';\n",
              "        element.innerHTML = '';\n",
              "        dataTable['output_type'] = 'display_data';\n",
              "        await google.colab.output.renderOutput(dataTable, element);\n",
              "        const docLink = document.createElement('div');\n",
              "        docLink.innerHTML = docLinkHtml;\n",
              "        element.appendChild(docLink);\n",
              "      }\n",
              "    </script>\n",
              "  </div>\n",
              "\n",
              "\n",
              "<div id=\"df-c98f5922-af26-4687-8518-d12ffdeb0936\">\n",
              "  <button class=\"colab-df-quickchart\" onclick=\"quickchart('df-c98f5922-af26-4687-8518-d12ffdeb0936')\"\n",
              "            title=\"Suggest charts\"\n",
              "            style=\"display:none;\">\n",
              "\n",
              "<svg xmlns=\"http://www.w3.org/2000/svg\" height=\"24px\"viewBox=\"0 0 24 24\"\n",
              "     width=\"24px\">\n",
              "    <g>\n",
              "        <path d=\"M19 3H5c-1.1 0-2 .9-2 2v14c0 1.1.9 2 2 2h14c1.1 0 2-.9 2-2V5c0-1.1-.9-2-2-2zM9 17H7v-7h2v7zm4 0h-2V7h2v10zm4 0h-2v-4h2v4z\"/>\n",
              "    </g>\n",
              "</svg>\n",
              "  </button>\n",
              "\n",
              "<style>\n",
              "  .colab-df-quickchart {\n",
              "      --bg-color: #E8F0FE;\n",
              "      --fill-color: #1967D2;\n",
              "      --hover-bg-color: #E2EBFA;\n",
              "      --hover-fill-color: #174EA6;\n",
              "      --disabled-fill-color: #AAA;\n",
              "      --disabled-bg-color: #DDD;\n",
              "  }\n",
              "\n",
              "  [theme=dark] .colab-df-quickchart {\n",
              "      --bg-color: #3B4455;\n",
              "      --fill-color: #D2E3FC;\n",
              "      --hover-bg-color: #434B5C;\n",
              "      --hover-fill-color: #FFFFFF;\n",
              "      --disabled-bg-color: #3B4455;\n",
              "      --disabled-fill-color: #666;\n",
              "  }\n",
              "\n",
              "  .colab-df-quickchart {\n",
              "    background-color: var(--bg-color);\n",
              "    border: none;\n",
              "    border-radius: 50%;\n",
              "    cursor: pointer;\n",
              "    display: none;\n",
              "    fill: var(--fill-color);\n",
              "    height: 32px;\n",
              "    padding: 0;\n",
              "    width: 32px;\n",
              "  }\n",
              "\n",
              "  .colab-df-quickchart:hover {\n",
              "    background-color: var(--hover-bg-color);\n",
              "    box-shadow: 0 1px 2px rgba(60, 64, 67, 0.3), 0 1px 3px 1px rgba(60, 64, 67, 0.15);\n",
              "    fill: var(--button-hover-fill-color);\n",
              "  }\n",
              "\n",
              "  .colab-df-quickchart-complete:disabled,\n",
              "  .colab-df-quickchart-complete:disabled:hover {\n",
              "    background-color: var(--disabled-bg-color);\n",
              "    fill: var(--disabled-fill-color);\n",
              "    box-shadow: none;\n",
              "  }\n",
              "\n",
              "  .colab-df-spinner {\n",
              "    border: 2px solid var(--fill-color);\n",
              "    border-color: transparent;\n",
              "    border-bottom-color: var(--fill-color);\n",
              "    animation:\n",
              "      spin 1s steps(1) infinite;\n",
              "  }\n",
              "\n",
              "  @keyframes spin {\n",
              "    0% {\n",
              "      border-color: transparent;\n",
              "      border-bottom-color: var(--fill-color);\n",
              "      border-left-color: var(--fill-color);\n",
              "    }\n",
              "    20% {\n",
              "      border-color: transparent;\n",
              "      border-left-color: var(--fill-color);\n",
              "      border-top-color: var(--fill-color);\n",
              "    }\n",
              "    30% {\n",
              "      border-color: transparent;\n",
              "      border-left-color: var(--fill-color);\n",
              "      border-top-color: var(--fill-color);\n",
              "      border-right-color: var(--fill-color);\n",
              "    }\n",
              "    40% {\n",
              "      border-color: transparent;\n",
              "      border-right-color: var(--fill-color);\n",
              "      border-top-color: var(--fill-color);\n",
              "    }\n",
              "    60% {\n",
              "      border-color: transparent;\n",
              "      border-right-color: var(--fill-color);\n",
              "    }\n",
              "    80% {\n",
              "      border-color: transparent;\n",
              "      border-right-color: var(--fill-color);\n",
              "      border-bottom-color: var(--fill-color);\n",
              "    }\n",
              "    90% {\n",
              "      border-color: transparent;\n",
              "      border-bottom-color: var(--fill-color);\n",
              "    }\n",
              "  }\n",
              "</style>\n",
              "\n",
              "  <script>\n",
              "    async function quickchart(key) {\n",
              "      const quickchartButtonEl =\n",
              "        document.querySelector('#' + key + ' button');\n",
              "      quickchartButtonEl.disabled = true;  // To prevent multiple clicks.\n",
              "      quickchartButtonEl.classList.add('colab-df-spinner');\n",
              "      try {\n",
              "        const charts = await google.colab.kernel.invokeFunction(\n",
              "            'suggestCharts', [key], {});\n",
              "      } catch (error) {\n",
              "        console.error('Error during call to suggestCharts:', error);\n",
              "      }\n",
              "      quickchartButtonEl.classList.remove('colab-df-spinner');\n",
              "      quickchartButtonEl.classList.add('colab-df-quickchart-complete');\n",
              "    }\n",
              "    (() => {\n",
              "      let quickchartButtonEl =\n",
              "        document.querySelector('#df-c98f5922-af26-4687-8518-d12ffdeb0936 button');\n",
              "      quickchartButtonEl.style.display =\n",
              "        google.colab.kernel.accessAllowed ? 'block' : 'none';\n",
              "    })();\n",
              "  </script>\n",
              "</div>\n",
              "    </div>\n",
              "  </div>\n"
            ]
          },
          "metadata": {},
          "execution_count": 40
        }
      ]
    },
    {
      "cell_type": "code",
      "source": [
        "rouge = evaluate.load('rouge')\n",
        "results = rouge.compute(\n",
        "    references=df_test_result['summary_text'].values,\n",
        "    predictions=df_test_result['summary_generated'].values)\n",
        "results"
      ],
      "metadata": {
        "colab": {
          "base_uri": "https://localhost:8080/",
          "height": 118,
          "referenced_widgets": [
            "8c82ad25c4634277a4499baa8d79592f",
            "5a366c854d6941b1a7b857a55900f2f0",
            "d6900dd01ea24f26ad01c03216706986",
            "9763cb419bc84af79f67cbdfdcd7851f",
            "1bed776f2f6649a89d3dd5f31d1dd24b",
            "b1ed5f90ec0a4fd6b91dffd3bee3b268",
            "107a7fd19eb749ff901e72966a0e162f",
            "8c590444cfe54a03852d057e24afb934",
            "5f6ce474f8bb4f5b9a6df90bd0f45944",
            "0bc4e3ed5e4b4810a45f69f119e21c27",
            "61c06c762b5f4e20ba66cb7287f056e0"
          ]
        },
        "id": "8FQ-DawzKaMZ",
        "outputId": "33697b6e-74c5-4747-9ab1-6a1af8f23b4c"
      },
      "execution_count": 41,
      "outputs": [
        {
          "output_type": "display_data",
          "data": {
            "text/plain": [
              "Downloading builder script:   0%|          | 0.00/6.27k [00:00<?, ?B/s]"
            ],
            "application/vnd.jupyter.widget-view+json": {
              "version_major": 2,
              "version_minor": 0,
              "model_id": "8c82ad25c4634277a4499baa8d79592f"
            }
          },
          "metadata": {}
        },
        {
          "output_type": "execute_result",
          "data": {
            "text/plain": [
              "{'rouge1': 0.7045126467010357,\n",
              " 'rouge2': 0.6187495975370185,\n",
              " 'rougeL': 0.67180254335455,\n",
              " 'rougeLsum': 0.667118078437636}"
            ]
          },
          "metadata": {},
          "execution_count": 41
        }
      ]
    }
  ]
}